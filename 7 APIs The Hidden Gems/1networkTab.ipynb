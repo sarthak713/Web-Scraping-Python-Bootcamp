{
 "cells": [
  {
   "cell_type": "code",
   "execution_count": null,
   "metadata": {},
   "outputs": [],
   "source": [
    "# Network Tab\n",
    "    # helps in analyzing & planning during Scraping Projects\n",
    "    # lets us see & inspect network requests associated with a web page\n",
    "    # it monitors info sent to & recieved from server as we interact with web page\n",
    "\n",
    "    # we can see HTTP requests for resources that site sends to diff servers\n",
    "    # gives info about how site loads data which is displayed & sometimes that is data we need to scrape\n",
    "    # so rather than dealing with a rendered site, we replicate request that site is making to server \n",
    "    # so we don't have to parse html, traverse & look for info\n",
    "\n",
    "# network tab will give us good insight into how site works & communicates\n",
    "# with server, & we'll use that info to build out our own requests & send them directly\n",
    "# from our Python code."
   ]
  }
 ],
 "metadata": {
  "language_info": {
   "name": "python"
  },
  "orig_nbformat": 4
 },
 "nbformat": 4,
 "nbformat_minor": 2
}
