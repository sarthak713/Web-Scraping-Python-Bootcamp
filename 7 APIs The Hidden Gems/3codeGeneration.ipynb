{
 "cells": [
  {
   "cell_type": "code",
   "execution_count": null,
   "metadata": {},
   "outputs": [],
   "source": [
    "# First we go to any webpage\n",
    "# Under networks tab, we right click on any HTTP request\n",
    "# We copy it as cURL\n",
    "# Go to an HTTP Client: Postman\n",
    "# Import: paste the cURL\n",
    "# Then go to the </> Code sign: Select 'Python-requests'\n",
    "# Copy the code snippet & paste it in python file"
   ]
  },
  {
   "cell_type": "code",
   "execution_count": 2,
   "metadata": {},
   "outputs": [
    {
     "name": "stdout",
     "output_type": "stream",
     "text": [
      "\n"
     ]
    }
   ],
   "source": [
    "import requests\n",
    "import json\n",
    "\n",
    "url = \"https://www.hdwallpapers.in/cdn-cgi/challenge-platform/h/b/cv/result/7e890d324aefe344\"\n",
    "\n",
    "payload = \"{wp: 3XDcbt0CbiDbU1Z0O0PGWcteGTrGnonBBtC09MGESekSxDGpEs8ZSi05GUODK$XXGTaBGfGBeBD0G-B0+Z6caiXqYHcESVXrTg5P13GWUsGlcEpdeGZ4CEoDFj3+W9X4iBFvkM5Gtowc0zODt4-HYX-DEcGhGU0GtwsGNdCTGGNMGVwztGGq4cGa1tL11EA-KG8GNND0$rwGZxxnEwcxm8GZA82vB0oCBbdMRDGDA8SxC3n6Btuklk6uRNJA5T+8ak6LdiJ6-$6vHRevCf7qG0ZVi9VGDxeCB0NAc0tSS-bDOfXE9fPYBfWo9JdLJ6Lfe9ZMBGXuCBG0+nXvDXtGmb8ULcG$tNj6JTgOqI8$0o0T9V5oqpe+Ck2neJiLOGbEAf9Ovxn0bwlpBG0JW1I1muHuc2+R8E6-uRh7wPpG3v7Hl7p4T5DGz1a8YCAARWZ$wHSDmUKg3b5y1ytG0oliDU8yEtcGhegtEinEXjJD4rhGE6egjAbXuiiYvENF67cbiCbh594YuUB0fW1DKc800eykt0G2pZ0SpLIDBTbp5X0qxuRDnkfCIN1BYHnvIH4S2zlnE7a77jd9uxbfNkEORcuo4YmrYrX56Nf6jKKHAMbnCOThX40Xqa+5aSL2RNhNv6XTJCY98PSSP9COLjO1Axw0rZ1r$NgC4p1OblpapNrUyp6ndCfGs0BfbBKrr0wTB-1hFxCGGDPc3Si0G7Gi1EV0j0iyc-tBTBsTDGLV1XGer0iUVjEoEBGWBKLEKUhcg0wyrVtDgSEEuGGkfwwxGReE1E0BODX+cxbBnLEEBycSbLyb0Z8VAtZnTsNE$30M8BBeVbB1DuDwM0VEZKrODnMyON-F9C1ChcsTZRZ-0wCPWDBEoftsHc538f0bZs3PK3LDyrcBTVVEnfGTrXfn1N8vyZSszLyMiGru3C+WMRnWVfD$uoE+hT6+rwVxrGwhn5RtODpGwya$3NsmEpDar1KqiaW3EJtwuXrGGEhE+wg0yGwV0drBq0w3EycGTgd3E19VxdYu0uTSFFMiP4ObBiXpbLJDxZL2vj1EJAe$+q0RYJ6yxNBFFhAi9er0X3bN5hTdiTcXbh3Lhn-TcOuSbjhiETY-j-fDFzia27V1KZT6j1UvbIwBT9LmDNTX0wbuEEd5Lsts30-WTkGFENSeUcpxXsbBJxBf830jTn30+Dw-AIoDZb10nmtNtuha+aj7Fp0D0iaKUIafFLF+jTDCmrFEbnZE1vw5rXMrUiBTrrpN+c-+udb-hLxyn3BTrdABnAIKxpGzgXZlCKrXcp0B$OKgLiX80BRL8ENqOWh3eKkH9jixT6k0dApErpEX1azw6oeMJiGxImG3ZZ9admKvad7kREyS5pnfBgmGCTPRy5FyxGimZ5PgfjI0IxABW6fi0W7wu74jY+plxqdsoRYo7w-vIk8PYt2zkqSTvhEO6L-qSb3-5hwPtce7GU+8K0pH7slj-Rdzk01I0+r8vXHLj6DJTV4sEOVxi1J$UG3yL0GzVwnfbTcYcitMSBVYMk-tf1v4dBD1bTuFnBGFUJv3bzKSbaBUJMVVGIvLZWM2iSFoiTDGwKqM09DwD8bYlG9ETDmvopBWcaEJwAcLj+xfAciGrOyGcnrXLEbpWwUsJn9SjG7RLndJrvbJTUyuGIN2pxrVMEBNRiwt0icCxGMBfDMrOrGeUa8Hrq0Si9Kaj9NBl0orLb-$BKwgtit+TTEs-wFAOGklDxcN2N1fA9kqfSEn3w8cAVOcUyj6RVG1Jia4JT0cID0nt+cbeNUDdtxn+ctTn0eTnxixUBVLAhGNbB3E7VD08cpEpgAycA0Vb$l95EDswh2uv8wN4FJcjIxC0nRDSc3SVw7oSaAEn31yuzeDf0ltE9BXA8oEbGcNGi0eGBMX3GHp+TrZrEhbitGNbgTBfcWGNjaT+TqxL8f3EiGoWpRVxGjVupgtO-S-p3Sb0mR8fLVwI0T1G3kwphcTGIGOLp0zMofaMydxyM40uRpAbBB8xbEcvV+aEtWwCuBV1ywlfs3C9Aq0b5b0SY2BOnjAEEPw4cnUJXZa3TtRDxGCGj7e3F3aHmigi1CeibXmmPwjbjRfaWmJHwtFt0VRaT7vgtUDEYj6iV$a+V3REunq1HNXr38BMCKchwrReOTnSNmx9ZNRTPqxGVpxDynACTXRR6eMTD$rbgFnhVAllKprcfwT3hKl0wjBD06RO0$ZG$NqVa0MEiYjyhfsn0HpGtg45nuAR$CLLr7DSKu3uhwdCn0N8NaE2XB8JATN-MR1To9BkicG3DDE6bDRetGXOuBh+gbiAS11LKjuTSNx1uDJ8LaXkiwFrA+$OFebG6V4nw0UrPt2dvV0e0OpchcBhjt+0YGUtvb6cDzBpDs4BK$uDSnSGoa1HwIt8PLMXymHNlliRBTdoEVWAROY$4sI7zEMF9008VKc+FtR$weauagb64nqGwW8Xc6nl+ZZ4-mTgnGd9XlNmZ9G0iB0rq9ZAVGvcPldGbc8XU$adBxtDTOkO5F8vcmnrDH3W8LMoYmnGVAwr6p+qSaLnLnVjtrL2n9-X0y++I$uhLMGENAN1qfpG9DFo7wanlFoqVw4+4n$f8sljjjxKwFqC0GLYKbpGEREcs0Y3N+6fiWANubjuLb-TmvoLRr3RRRE$U1new-OTlaEG+VYM2$7SNMiJUBKZ9G+07fwkdy4BuN0t8mpUVcnfPBP8JlU1HbDwhqdUyBMnUiWRb+RtHaZwyHW4asEqJxHbgTCBDmEuRKfroSR29mUZ9LtGCvLGIyBBaI8ebBlNtyJ25EjltcVHi5VwCU+5Ov8HitpxOaybJrS$hEE1RNoSSJLu1G2Sy8KnCshqGWSPM3nrN1ShXw-SfyH1ZM0I8Il8HMM2jGmgsHpJNrGDpdJNwNejuhYKfYhic7X5fBF7NsFG7UMN9SSW$TLdu2wfEIejmjUUPve3niZVw1HfXAjJAEACZe7x1OBGtKtVcf9cni0M1XxXrjoS83StVp$4UdBSxAAOEStTEReleYNs$uBsvcO8R0zcU7q1qJsCDLhScAE$F-ZA4X92tGqYgKugvXcSE$7b$kh$ejtJ7KbGACieDAT6XBJ4HSdz5MaYIYsU1UN3+455q9TCxlTUSx9FiCBH4lnEGL3U$LDFHn6iX0qLX+-u1RlAGxncCzX+AEjU8tVonJRm8ndfs9n7S4ZRT9bjeXF0TmpdlurrJScWLzMheWO8z2KZloCsUo5Lt-cv+FeBns4CHVbpFhN1A9sjhuaJv8sHoK4-q6kmupzvEO09bAKVDr2wpUJ$Fnn0MNDjDW9xF9DYF-iPZ7Sd2k2939Vp6qh4gUU-REb2KIiuX8voFu4gDYXilzVbfGYreMXM60nmLbkU9kcLcz$8EvHdSYvJ+w9UpgVCLX1CsdkdiHKYpZZF1m9D7ecFZ4P7HmR7bNEBdxNFL7cU2G+bbGByRV9bcEcGPz6AP7wVmiNBsz94iLBU5FBmwGKmNy0LsGABJb8iG7ibG7petXrW6N0XaWNLDGOdrentpV90bi$zWNMFS75PeNRbSjxGqrMtMzinjtTi-D6wStBclVjG80rFZXoEfLNdnVsXt7kXp0zoZWto5VZXFnr4gAE0LtJG$wpLBe8TfzszpiaBLiKFKW3brXXylDkV1LydVPCLTbSGyn6BgnhFAwpeLKuVzz0zL1RbLX6DXuWVhBSbc4XUkP$txGwBkekPYieNtxbDaWnAoT9GNE2EBuCt4DSodDSG+uUb+wZnyAOwfwXmv4tbMLOrad8uvzIwyi97hukNLBULkAPUAa3tDAe1oGu0qb1xBoHFDGZTw0Z1w05G5G0PHDDG5wDeV4OyEXui7uHi8XUu$EGKL1GNsF0DidXET0Prn0xweTAuPUyyaKSEmWyKrioAP1HxPXb42KszhUPTsiU47z0d6UaVxrOrVWLdEm2V$ExnGmNBcynAcifEViLLSoqbJxLy8nwEL7EVNz4W+xdDTNX0DzME0owiuA7FIiAD-T-r-ECXpPKU-E5KEzp774FTKUqNznKudwsb8UKixw24lxB+qbNeDEeWuNoKoTquh1X5UwBosU3mtEjTCbu4LzAFk0wbttPdreX054vFoVbFWEGw-Ppv-1GAcWE7LpAnDGVDDbDvWnwTEUk4PuSV2Pj+ciUn$Vs05AJTKFStcaLdd0vAEb2Xst$W+5SAfvEuBjIn90cDiwE1BiOGg0f750kTdLwGP1HWnKCdq0XEc0+TOGA02URT0isUT+awDuqbjVqK0WGKirL+VirLO+vXqUcwKmaTsyrNVW07+EyB7TIyIrRT5n3GkBzu1y9it13mUetPkjKw1WN+kdyE7PxAWBmTBa7XK7ZjcWnwtGodt+ANKN4BAGkBL5ruV4Ebbdanw1KEm+2xid0Nddq7X+sbfPR4n+tWiiPWPNUGKFLw64odpU8wsePuv7G4CbAcNyM+Ba2W$bn41pnNv+qEcw2TvBciKNAGUoD+pvnxEuY5ueeU-PrvstbUCUGn9F6zFwpGa+BjPz6iHvs4y0ozL7E4UJiPEGKFBR2DqKvpcATpcu7Xxb9xDGKiF5gb5XupWvhyyG$wUNNEuNvXkuCyAW+X5NJ78nsyZnbDIyn+xbBBTGpLoUjwpoDbnAmTaxHwrDFduTpimPmLG8nKIw0+RDnBOeGD-vf7N7WXGFm+tx2bY4Kz-Xg0TlgEay8RoxeVDGsFSJtKwWxjMXWwnGXX+TzLynjL-vcFfainOAZvNzi8Nb9n2A5mVxf+7EDGNKAtfw-JBaSPZmDXKzvd8Fw8gGR83EUNOjoE6pEJ5BvlERVWrLSbzxJLOeLtCylbMewnkp7mswjnAiK+JtEmwp8iroJljzJEt7lLO4bx3Ls+iUowaNTipnCtCyD8OajGzytbnPLXeFrlW5lDywknWAfvfd3v1oA0kN2ii8utLd5yeTBAIzcvYwHAmnjG4iu4lbnu25eB0+A+GmFdRAsW3t8828GdBpE19XOrT7+7mJIubRuEC+X5Z+q09zIaBnsU0pWRVAPRJXXkBdNGKdEFn4dDnyUV656zwTyFATeoUwqWIW0zKj7wK7TJAoLPn4yt+t$zRAitEXgbg0gl67EATRRlL7JLN07Jd+i+XGNDMwntCy289XanBXpKJak7OcnuNUStnOaBP4MNFXKGqvqpDtzz44jEdBkueoUJaFrV4wfXc0oEEG-pIKlDKF8mzUBouufUWNJS7+qcdWZlZt$tu75RswAm6Xe7cULN9bOAViwK6nq0wGhlXFlGVD-PCpmrDbTNjRlEcbAFADpGSuxSiTkmVoCb0keBfOjGk4VwSP$tIdGiZ87Po8JdyVOApkOXbNXt+SXLc0XiLwct2SAwle2aHdwGpTtKAtm0eny+LKIrsVf5AFb0wGbJPzA1qzun5J2R+76OreCJEArNnpKU0uFjjOf+ANEmgKiSMoiJz9fjl4GnYo7NEEpDX+HNPFTTjV8yEbMD-5L1kxwU9DHKRdyF6FSjOG8bCiJktEqaGOLEkTsydudwzvswTKnuxw4JwW65gwMSUJt1e0qjjdjW59e9oNJbIrLX59RXDu$BEf+bkt0SpbxJpXqix0qi8L-iEuZxqcpPxVsGUo-ckesbC1f5v1+wb1REkV7SkaWVbU9TUnv8o5LKEG5lXJ-mzATJ07fTVKgNNJyyJdOzXUSkhJXtD7K9$BONvTuOow0l0dHR-XDO-e9G9JRdcFijPdhl7W9b9GOAXGZ9vDcb4iInCFAPCFm7v4NBS0f9fvy8ZvaNV9bmwXEOu4PSw00lg02VUPvtBlLX0+Il+vcXGxAJ-rgkYKByz9cTZxZb$V+RwELZpk5uHSOVRzwvZ3-3EwdT5wD0JwmajBduFnJScZnb8F2AxGNGqb-tdRoDSXuvMFLdt8jnpBGxJyJR3D51clUZ58UovMZM2ZpzWijP9pnTgS8+au4xUpiT33EdGFqXuV39SZ$aBn7l6fANUiAcUTh8jSnExdbp7eEwrJLPEbUfTw+35f$JruniryzDcWWyCRRdq8IAl7hGpb7m5Zov+TNi4O$0yldAxbtb6WlZdVcpGEHX63v8iwObDGCTkPVPXm8vCdBU5Kl50BCgaJnzEGwe9JkWkNYmIxZFV7GOqkeizN9GzyXi6k+M$1ID4KEGlSKF$Onv87Ft43SdTx212n-x2vBdt1o1kDJByBjxqanAVE1XPS$lri9p5FOEqk$UPNI1Xv+fhNyyNS7oDTqrtpIyTq77Ok2tX4XA1ooV-MKNBnsi18NTmLVW6dOvm4SiyOxuPzbyXmcFUF3pYwWmXXcGASPW8ihkmpDLGTI8ptwqtMXUo5HBTJHMCASR53XJ6vmf-qXytoIAg9kDvXORS+PiiMa5tVpS-vEusW$xHBU1buw37Rz4iUWYn$8bh9V9vOKW5n9b5PT4bltyZb6l0MCAeJjyE7w+tNMPMolzLzELhn-xCMIk9MhF1EipD0SY6YzfmpTG080+2MpSGMm5-m7vVL15tLTmokLqfgVF5on9j+AxfdFYs7j72gVozB5f$DIwkB-5tFxj-ry+KbiOsitltlttvkxxhujucMOTKDg+5Zbfy4wAvly0syLX0Jsi885Niz2yiXryGuOF0zs9EUlJo9ERGNekX$Y5nY$-XyU$ppF5fwVDp-lKepL3TJuJf79NRZUw6AL9zfjGMRo7f+x4CAbnv8ku3TOrE9INtMa3Epamq$80bZ4TaMlDyMuEn+k7$ABZKxs4gbtkLzcXMGDGwty9f7x+ZTMKZ1OfJboNU5R4OPv9LU64Kql7fpwU9XBPCwS0OasXaBpexPgtuAeth5G5j-Bj6UpPuNbl6885CZXkqPG$Hq2DIga$XkAFJGu5M3oAUSBkv9+FKTHg5ElKkU-eORhyIef8XktFoyGBvh-MtF-+vHHyYSiuG-2FGC0FtPyGJ56A2fxxZgDGShOD1CuWi+OAH43RRX0pKXDhz4W9nNCixb0hDbPLyONurpnH$FS4LdJfqLCFCnnl+S7eTRGJSDVepOhM35BSJBKTr5fnKnm5lFsdhHEPiVvvGDwVgM6BAG5FSCntu4Rb9KZHLYvG5mkZnDyXDR2T1CP$5NJSDAotBME$flDA5ZFqkLRbF$5Xp2-TawyXl9v1US$5qJqYyWz1Hh5Z0vt6vq0ZL2AWvZi-NG-vgh$wyEK9Rze1pg7yRRDkH-SxhzoYe-KDtm6njVlq$6sAn1zwrSH+cN73OcpLAGI+nyJ0+w8beuNBgHIgEurgnYO-4Bw0DRsAsE4-7v4H2U3nB8A7Fkypjl3ZYq4U2h0-yTSO7xJfT6suL8CJXHokTN9+yA1eikbBdOONJPTN+NwWe-NY-qreF35AbOzeLVMH0fRkEbR97J+b59fp2t5Cr+XMsFKiRUK15JcxqT1mLZC-bgvRBOEBjHt$qMm1CN+Jy2eCgNwb+0wY8oyO4wMNhGlJY5LLJOhg59-H92BOopqcWCbftDLq$qIZ9WBUA-AD3Fv0npU3DbaTbIZVMOyIOfU0TeRwgx2sI4mG$SKfcwG42pDRDvNvZUNRu2ggTSTMn4XvVBXAIlfZUrYyuSESejCLt+GknJe+cm1Vf4dPRFGAktCAHb0gVit$1wUqGTJ0VoEjYLtG0gZvM2OG1PCZ2O7NVbWEiGjE$c7J05Tpj6FDtJwYTiDbF+cao$JwSBF9WpjDLOe+w8vnD1EtEaegME5EiDNX05ukSK+9iTc3EECbrpSGyKEcDVaS1VG1GA8-YZ3KzLitvfNFJA+yLZGdt3pqGiDExKNDcBkpzqnV+UxhjcxgtYGUt0rbct8szoncXApXlpTD010xBDnM$5UG+VV8NGUgadbjT$wEr5wxDCJedtJ08rR3hDnmT5cSB8rBU3DF7VZc6BHB-ZTG+CeNbRtdufBuwm+VY0$tdcUG4e58fiTArm8KAywBjnNcTGfrABWwnYL$r4s0SvZyHYkrNb4VSjYBuDxXrGrw07r6BkaKSZNjUt+rIBdaM4OCml0drHiJLtRaNe0rdrfDME05p544tFLNa8jNW+Bn5tqrgLYGMCNgo7bnr2BkorpxN1l0EDZ-fwVYRDVVGzB5fDEntxxjjVIr8BiSfL0am6$cLLoVr1T9sD2c8UDNmEJDjjEPx8V58hECR1sDXb1GxGhoj8bVT-cZVf0nxun3eKpasVA8RzZDKnWUjcLmDjpRin0KCVUUtcyIYonbtf0PX$5-KGtNrmRbTDi1TJxe0NtCaVZEw5SZZrxat12GDextKoxZb1xBXCGV8iUlO7oaIGxZfzrb1KAoj$VbxJZww1rEkVMXALeS35VEzdEtD0w5EnB1ui6XfNywp103ycAxmtO$BeBxdWow2cUVHxWBZXZv1V030j7UZVD1b1oaJ8OS8NDdDVKAbXe0cVZRCKCTqSYuBUNgElVjEWbTVpeKS1h0iefcZG7Btc0dtO1qeaUMdNXCZfOTJG0dCG1JvCTw1LBuVocquMWTJEXSncZDggfJfwerjtGIo3GMlcdVGaTDqUcCV8tW118neZXYZiXK7jvaoeMwxZxSaWVJBurbZM6ptf1jJGWwsLXJx81YmLGRrviVSNSfiG7SdeTEn7+TMIGsGVw-8KBgrbL1lG5eWXXBZJPyuredEBUUJboOJElBIepXg+bWbINjL7eNXotHXfcv0rgDihNJGop7GOVtLtcfGbD0w0vavwwIlTEjOpPAtiGzFD0E3G6jnx3N3wEBTV8LcwVoxj8HcfVWnr$wzpbEkGZ0bXb$nBGu+Rfjcvnnsn72pBRM46kj7IrF2hWyAMrvvBpGbO5pWRWcT3PKsiG3qxDjpRYrOc9-DGUtv-cXt4hsoTkyjfO9ZNXsJwyGeEVBTZyaV$-i81lWJvZvmC+0puCUxLxitpyxdLEEOGKk-cwBXcqE+cGGtvWGdLHchBKLTzSYpZcRWT8npL5Z3tRu0BEITWoXe3Tt$U5KwM3KXDA08BUkfanP1NbgNijhZ0tn8E$AKqDX$LF8GpWM7u$jy8kNXxjtvXiJdoZLi-p4mGEMUSBTLMSBpjWUP0XpeupS8u+gEzxZ-3Li98mAanwcYmEifwMZEfncLzpdURE1+T$wfORL-IGTo3VtjwcPstcElbz1+UHBeSbJ5NWjevBHBm8Azw2DDtPnHBIJZZJ6nDrrj8LGnUN1Gx60hDZG3SZZRfM3NMnUoV0C2D6Wr7jCrrEpJwZTob0m$lOSuEwZgEjr+j20BUCtZSbb1vGNcvUvTyrTJazx1eMwKVWa3myXPyrmUjwEfMqpXoTcmZYZUyfAv4afBG8GiA+EW0IcGDPD5j81T911UUslcTjtoo-d+0PES0b+hETozBBNesH-dRPfR1BaKGJwPRtuNq0vjOUnEypDpEqt$18pDrRdH1E8NCc3SRXDqa5ELcArLnVcHbNF3ONrLFwgIhiRFM0NOoqtdMM7KLKpcxwxrGSMgZLEMXcGdxqz0tEc1caLVCG+ECtx0Eb+0VIGXp2iNKNbp37lG0GMR5KDUrDGJ8gC1fV3Ky+-rZGYGVzw$a6pqrnTW8ytbKWKuvPGVcC2sy-0Tn8nu7DEDqNlZdcA0FfrC9StS13+LBo7cCj$-D0zvyAteCCkqVDGDE-eymGsY8Vk3Nryw-D-nD-Rf5Sc+PA7Xc3VjsSWpRjBDMCgSE3rF+MwX7Ejt10PxrwAr10UCp7Zmr7nUBp7DiffBBEVj80G76nySGFVaoUB57GGPjTINPV7VG7P-l2mxV+BlPI76OtcxTJpxUec1m8WTTYZLrT0DTWsLflGw809Gv7ntkYbI8BlPZxEjsP0mGe0j1oS1js$-8cbB8IoX7hw0IwKWEbCLu1c88uArTPv8NkpInNrB2VIn0Px0qsYK5KMZaO1ZDhpFClKxtGqBr1CMB-UlZRuj3vD9SZgxLE6GOXmTv$gXcc1Ko0Pp1qlbOAw9h1yPOGabWrnlZ6vlxy7GdyngAVSRkxCecCjTiaKojV34iCEJwMw$bpfri$+jgXuvvlpdWg1ASxelKfGrfLBZbto8jB1ypiju1LnOSxNvHvAoDvmtLqhhEobEjC1CCrxiMMLR0WEvYG1$VpgKpwWj1unjTWMDZJ-XRnEnI0TrlI5WBtvDn$8JALD8+GmGZ$IF4XYulT0TvnwIFjBK3jVPZeACokDJPw+6WOEejjix6oYpBezm3$DmmXu$JG$cEwnp65X4+J5Ve1XJmmHLAENPWx$5RTm-BAoz8prvuoAGfW3ozapevntEcxZAf8KWPvqoLqhCYP4FNcEVo4AH1PwpoGDUxEZjKKZ9cyjYv8jytWsw6BjEI7CC+EVc0iJUBhEuGmDrDEr8pWzd0j9fcdR$tO3t7MGfB1bMVlXAoSNn4Bt4DZRjG3ikS22tpAGruZKrrC9Lbs9fagwItejYtBMZbpjEdRSBdvylyapc4xNcC9OKp8eoUVi8tpKviNymatezecua+n8EO5nNcVIt$PKCSNcgNnccNrflcvDrEVEVzCORyFG2Rp8xJ3CpVAn4u1qcMBLpHRm6xEJIt$Dyn5+8uuj0roFRFcR7VzTR8eWZvZSq9yp$N8a75RMw1S5wRuvjZzRhZSS8bM$xnaqeCZ5NVEgKAV4OvG9HFvTYvvCP1m$kRxNduiaPXIRBCqttdYgRUBptUUqjUpTa+oNed4uw1U5Wypko4RuCer8TbdRAokpqCADtLTPJ-ulBmi6gmlDFRCDt0gC7G043z8UVrG0SI3id0sogPlRzCz38cPcbhP-9LsOhBMZujWuR9Bh3hRwE55W4eGVn5hmzrFTq4r7how6yHv5lFP7veCz3BHWHe7aa7puI3H9jGJ6447WBR9lHfuFmu57ttkg-IMUJI4Y7x$R9itugl37G1Nr8bBGgGJN0L1MNUbmxVMl7uS1Mdu9Jc4olmuS1-dkgJcAlEUi$12t99UB$MRDi$1Cn99VBg$G2as99tw9hV4wli4d9RuzfnLgz8pB-Ga71LRi$XRl4-9Ytg6H+wEli4r1RTPV+DglRJ4x15fhZ0DPp8NWwthU4VnwwHJNi31L6tyhwqPJdW1ZKigVpU$SO+NnU2+29fDghlJNswe+FRidBCJyu67RuveCPSSkiWE3Jj9WbXAX9J4I1GH0aJ8Ydlm4uvpnwE57gjRGFu3Enkbiewj8EFBg+nwr81$olwiDgzuOTKMNg8vWI37nqAH0uu82i+DYD9bBS$h8rek3rTc4VSA7+24-9woXgDO4tJRFbvX+a38ZwrKo$138oO7hGYX94N5vMjkPFO$EUbAfux+I3H9qrd5BuU8D44B3uGyfFav2o$7hRqTlmuKvRJwFZ9YJ5pi7gNOdFV9uJ9PiVgcOr4H+wuOItcnxGisHe4Et+47rvOziF8xo+qG11honLtsW6xuincVGEmZ6qdD-9kggthpyd04psh$wbXlGGG1wELTEIF5Zc2JqBkGtBEOWWNttoP7L0BNDTC07t9r4mtG1tYX1EjqCFD5DRctulUtBGGG6Ny4gt8zwV6wGiTDT3P$GRAn$NsNVtFdCrxrWZOGG-xEiqG-qSBHNbDtcTGw$Vjc4uHW1oX$VrhmcPtxtOvvvikGBNUzK+fyls089tqrBChNJLn46mgGoXTkTItLxWcZtKsxoGILEGeTvL8k8c+6buo0SUPCx4HE8N1rwc62f++XS7bp0nwpuhcGGGD2ckqIZ1EbGGG0qFkVzAKcrzIGDsnSMiuXb0wUBs0UL3wvSrfzseLcVwt+0nKHrZAxtiMRfZPOXGqBc-zkBGGwMh0ghcGGEAC6aDwr42rrG-z1LS-6fJcKdPedyGn-S5Ul4GGvdo6lqkklEK69c0G6D-$M-jGakrzYhpZnGM+bat0dN6kqsZu30XtpdPcUGHZTY4lk-dIX4cCtMX1xkRcq6S-o0$BEhasxfBj2pifr3c0sz-GFY1RxoTBtczAcqBvMhtABtL4ZLb2AGEI$$bUGpD42kO0IqotCrZ9spnGW0G+raBqL2lKSxgxG1TbKcZDEyN31UnUDqLTEBjfAKtNHzeXCB-pNb$YbWcJ7dlN3fTgNbMwppeSdgCpplX$NOh$u85iLGZ0DeSbaeJT$Rxrt8dzB9frSMLbA9pRThJD-IWEGDGLr$c407sFH0r0c0vB22$StY4G050UBIqOExGbGbnrA6sDW$KyMtWOz$V3q$kF9NkKUjqL+mHil8erGU4$xlU1Z0m0B0D0$bZDRnn6w79l05bci7n0UC70Ur1rTu5GwaNDWGKCGGGUacZGXqLnUbMVh0r0EzrGxfs5RLmXfSdIdbfccNyueG+h+ERtKDGG1scGG,s: 0.9533778762007402: 1689664932:HzIsYUnYErpTD6hTSRS-KNcVGrx45An55W1T-c4dncA\\r\\n}\"\n",
    "headers = {\n",
    "  'User-Agent': 'Mozilla/5.0 (Windows NT 10.0; Win64; x64; rv:109.0) Gecko/20100101 Firefox/115.0',\n",
    "  'Accept': '*/*',\n",
    "  'Accept-Language': 'en-US,en;q=0.5',\n",
    "  'Accept-Encoding': 'gzip, deflate, br',\n",
    "  'Content-Type': 'application/json',\n",
    "  'Origin': 'https://www.hdwallpapers.in',\n",
    "  'Alt-Used': 'www.hdwallpapers.in',\n",
    "  'Connection': 'keep-alive',\n",
    "  'Referer': 'https://www.hdwallpapers.in/',\n",
    "  'Cookie': '_ga_LN6DVXZTKG=GS1.1.1689665766.1.0.1689665766.0.0.0; _ga=GA1.1.1555979353.1689665766; cookieName=cookieValue; _pin_unauth=dWlkPU1qRmpZVEl5WVRndE56ZGhaQzAwWW1OaExUZ3pZelF0T0RVM1ltVmpNMlJsWkdJeQ; cf_clearance=laCDaI1p9pCvli.92Xx1uwoLAV2OoboY_AZAqL.2WK8-1689666019-0-0.1.1689666019',\n",
    "  'Sec-Fetch-Dest': 'empty',\n",
    "  'Sec-Fetch-Mode': 'cors',\n",
    "  'Sec-Fetch-Site': 'same-origin',\n",
    "  'TE': 'trailers'\n",
    "}\n",
    "\n",
    "response = requests.request(\"POST\", url, headers=headers, data=payload)\n",
    "# OR\n",
    "response = requests.post(url, headers=headers, data=payload)\n",
    "\n",
    "\n",
    "print(response.text)"
   ]
  }
 ],
 "metadata": {
  "kernelspec": {
   "display_name": "Python 3",
   "language": "python",
   "name": "python3"
  },
  "language_info": {
   "codemirror_mode": {
    "name": "ipython",
    "version": 3
   },
   "file_extension": ".py",
   "mimetype": "text/x-python",
   "name": "python",
   "nbconvert_exporter": "python",
   "pygments_lexer": "ipython3",
   "version": "3.10.2"
  },
  "orig_nbformat": 4
 },
 "nbformat": 4,
 "nbformat_minor": 2
}
