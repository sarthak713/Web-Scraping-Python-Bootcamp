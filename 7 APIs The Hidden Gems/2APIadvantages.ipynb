{
 "cells": [
  {
   "cell_type": "code",
   "execution_count": null,
   "metadata": {},
   "outputs": [],
   "source": [
    "'''\n",
    "Web Scraping:\n",
    "    - get the request\n",
    "    - parse the resulting html\n",
    "    - traverse the html looking for our info\n",
    "    - then save or process that info\n",
    "\n",
    "Lot of what we see on frontend is a result of some data sourced via API\n",
    "Especially in modern websites that rely on JavaScript\n",
    "By imitating that request to server directly from our python code\n",
    "Data can be scraped a lot faster with only a few steps\n",
    "\n",
    "Advantages of APIs in Web Scraping:\n",
    "    - faster\n",
    "    - less volatile\n",
    "        - frontend of website changes all the time\n",
    "        - API that serves data changes much less frequently\n",
    "    - often more customizable\n",
    "        - request headers & body can be changed & diff responses can be generated easily\n",
    "\n",
    "'''\n",
    "\n"
   ]
  }
 ],
 "metadata": {
  "language_info": {
   "name": "python"
  },
  "orig_nbformat": 4
 },
 "nbformat": 4,
 "nbformat_minor": 2
}
