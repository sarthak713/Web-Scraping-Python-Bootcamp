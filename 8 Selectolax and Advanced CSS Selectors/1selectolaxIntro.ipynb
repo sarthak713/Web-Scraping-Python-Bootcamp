{
 "cells": [
  {
   "cell_type": "code",
   "execution_count": null,
   "metadata": {},
   "outputs": [],
   "source": [
    "'''\n",
    "Selectolax:\n",
    "    - parsing library for html & xml\n",
    "    - quite similar to BeautifulSoup\n",
    "    - high performance\n",
    "    - gives us opportunity to learn more about CSS\n",
    "    - it focuses strongly & exclusively on CSS selectors\n",
    "'''"
   ]
  }
 ],
 "metadata": {
  "language_info": {
   "name": "python"
  },
  "orig_nbformat": 4
 },
 "nbformat": 4,
 "nbformat_minor": 2
}
