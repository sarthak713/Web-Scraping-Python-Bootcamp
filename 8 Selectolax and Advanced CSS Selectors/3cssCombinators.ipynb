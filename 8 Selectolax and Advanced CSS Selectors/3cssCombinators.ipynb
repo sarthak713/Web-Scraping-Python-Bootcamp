{
 "cells": [
  {
   "cell_type": "code",
   "execution_count": null,
   "metadata": {},
   "outputs": [],
   "source": [
    "'''\n",
    "- by type       ->  p\n",
    "- by class      ->  .class\n",
    "- by id         ->  #id\n",
    "- by attribute  ->  [attribute]\n",
    "\n",
    "CSS Combinator\n",
    "    - used to select elements based on their relationship to other elements\n",
    "\n",
    "Types:\n",
    "\n",
    "1. Descendant Combinator \n",
    "    - insert a space b/w two selectors\n",
    "    - p .some_class, div h2\n",
    "    - selects all children, grand children, etc of an element \n",
    "\n",
    "2. Child Combinator\n",
    "    - '>' \n",
    "    - div > h2\n",
    "    - selects only direct children of element\n",
    " \n",
    "3. Adjacent Sibling\n",
    "    - '+'\n",
    "    - h2 + div\n",
    "    - select sibling right after an element\n",
    "\n",
    "4. General Sibling\n",
    "    - '~'\n",
    "    - div + p\n",
    "    - select all siblings after an element\n",
    "'''"
   ]
  },
  {
   "cell_type": "code",
   "execution_count": 1,
   "metadata": {},
   "outputs": [],
   "source": [
    "import requests\n",
    "url='https://en.wikipedia.org/wiki/Rare-earth_element'\n",
    "response=requests.get(url)\n",
    "\n",
    "from selectolax.parser import HTMLParser\n",
    "tree=HTMLParser(response.text)"
   ]
  },
  {
   "cell_type": "code",
   "execution_count": 3,
   "metadata": {},
   "outputs": [
    {
     "data": {
      "text/plain": [
       "['/w/index.php?title=Rare-earth_element&action=edit&section=1',\n",
       " '/w/index.php?title=Rare-earth_element&action=edit&section=2',\n",
       " '/w/index.php?title=Rare-earth_element&action=edit&section=4',\n",
       " '/w/index.php?title=Rare-earth_element&action=edit&section=5',\n",
       " '/w/index.php?title=Rare-earth_element&action=edit&section=7',\n",
       " '/w/index.php?title=Rare-earth_element&action=edit&section=8',\n",
       " '/w/index.php?title=Rare-earth_element&action=edit&section=9',\n",
       " '/w/index.php?title=Rare-earth_element&action=edit&section=10',\n",
       " '/w/index.php?title=Rare-earth_element&action=edit&section=12',\n",
       " '/w/index.php?title=Rare-earth_element&action=edit&section=22',\n",
       " '/w/index.php?title=Rare-earth_element&action=edit&section=23',\n",
       " '/w/index.php?title=Rare-earth_element&action=edit&section=24',\n",
       " '/w/index.php?title=Rare-earth_element&action=edit&section=33',\n",
       " '/w/index.php?title=Rare-earth_element&action=edit&section=34',\n",
       " '/w/index.php?title=Rare-earth_element&action=edit&section=35',\n",
       " '/w/index.php?title=Rare-earth_element&action=edit&section=36',\n",
       " '/w/index.php?title=Rare-earth_element&action=edit&section=37']"
      ]
     },
     "execution_count": 3,
     "metadata": {},
     "output_type": "execute_result"
    }
   ],
   "source": [
    "# Descendant Combinator \n",
    "edit_anchors=tree.css('h2 a')\n",
    "[n.attrs['href'] for n in edit_anchors]\n"
   ]
  },
  {
   "cell_type": "code",
   "execution_count": 8,
   "metadata": {},
   "outputs": [
    {
     "data": {
      "text/plain": [
       "[<Node a>,\n",
       " <Node a>,\n",
       " <Node a>,\n",
       " <Node a>,\n",
       " <Node a>,\n",
       " <Node a>,\n",
       " <Node a>,\n",
       " <Node a>,\n",
       " <Node a>,\n",
       " <Node a>,\n",
       " <Node a>,\n",
       " <Node a>,\n",
       " <Node a>,\n",
       " <Node a>,\n",
       " <Node a>,\n",
       " <Node a>,\n",
       " <Node a>]"
      ]
     },
     "execution_count": 8,
     "metadata": {},
     "output_type": "execute_result"
    }
   ],
   "source": [
    "# Child Combinator \n",
    "child_anchors=tree.css('h2 > span > a')\n",
    "child_anchors"
   ]
  }
 ],
 "metadata": {
  "kernelspec": {
   "display_name": "Python 3",
   "language": "python",
   "name": "python3"
  },
  "language_info": {
   "codemirror_mode": {
    "name": "ipython",
    "version": 3
   },
   "file_extension": ".py",
   "mimetype": "text/x-python",
   "name": "python",
   "nbconvert_exporter": "python",
   "pygments_lexer": "ipython3",
   "version": "3.10.2"
  },
  "orig_nbformat": 4
 },
 "nbformat": 4,
 "nbformat_minor": 2
}
