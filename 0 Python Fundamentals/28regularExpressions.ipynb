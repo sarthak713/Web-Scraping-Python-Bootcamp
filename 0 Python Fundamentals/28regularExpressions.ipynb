{
 "cells": [
  {
   "cell_type": "code",
   "execution_count": 29,
   "metadata": {},
   "outputs": [
    {
     "data": {
      "text/plain": [
       "'\\nRegular Expressions (regex)\\n    - tool for working with strings & text data in Python\\n    - used to match & manipulate strings based on patterns\\n    - make it easy to perform complex, string operations with a few lines of code\\n    \\nMetacharacter in Regex\\n    []  represent a character class\\n    ^   matches the beginning\\n    $   matches the end\\n    .   matches any character except newline\\n    ?   matches zero or one occurence\\n    |   means OR matches with any characters separated by it\\n    *   any number of occurences (including zero occurence)\\n    +   one or more occurences\\n    {}  indicate number of occurences of a preceding RE to match\\n    ()  enclose a group of REs\\n\\n'"
      ]
     },
     "execution_count": 29,
     "metadata": {},
     "output_type": "execute_result"
    }
   ],
   "source": [
    "'''\n",
    "Regular Expressions (regex)\n",
    "    - tool for working with strings & text data in Python\n",
    "    - used to match & manipulate strings based on patterns\n",
    "    - make it easy to perform complex, string operations with a few lines of code\n",
    "    \n",
    "Metacharacter in Regex\n",
    "    []  represent a character class\n",
    "    ^   matches the beginning\n",
    "    $   matches the end\n",
    "    .   matches any character except newline\n",
    "    ?   matches zero or one occurence\n",
    "    |   means OR matches with any characters separated by it\n",
    "    *   any number of occurences (including zero occurence)\n",
    "    +   one or more occurences\n",
    "    {}  indicate number of occurences of a preceding RE to match\n",
    "    ()  enclose a group of REs\n",
    "\n",
    "Practice on regexr.com\n",
    "\n",
    "''' \n"
   ]
  },
  {
   "cell_type": "code",
   "execution_count": 30,
   "metadata": {},
   "outputs": [
    {
     "data": {
      "text/plain": [
       "'\\n- Do not use for basic matching\\n- these are made for complex things\\n'"
      ]
     },
     "execution_count": 30,
     "metadata": {},
     "output_type": "execute_result"
    }
   ],
   "source": [
    "'''\n",
    "- Do not use for basic matching\n",
    "- these are made for complex things\n",
    "'''"
   ]
  },
  {
   "cell_type": "code",
   "execution_count": 31,
   "metadata": {},
   "outputs": [],
   "source": [
    "# module for regular expression\n",
    "import re"
   ]
  },
  {
   "cell_type": "code",
   "execution_count": 32,
   "metadata": {},
   "outputs": [],
   "source": [
    "pattern='develop'\n",
    "text='Hi i am sarthak my name is amazing i am a develope'"
   ]
  },
  {
   "cell_type": "code",
   "execution_count": 33,
   "metadata": {},
   "outputs": [
    {
     "name": "stdout",
     "output_type": "stream",
     "text": [
      "<re.Match object; span=(42, 49), match='develop'>\n",
      "matches\n"
     ]
    }
   ],
   "source": [
    "# search pattern in text\n",
    "match=re.search(pattern,text)\n",
    "\n",
    "print(match)\n",
    "\n",
    "if match:\n",
    "    print('matches')\n",
    "else:\n",
    "    print('not matches')"
   ]
  },
  {
   "cell_type": "code",
   "execution_count": 34,
   "metadata": {},
   "outputs": [
    {
     "data": {
      "text/plain": [
       "<re.Match object; span=(21, 28), match='Cyclone'>"
      ]
     },
     "execution_count": 34,
     "metadata": {},
     "output_type": "execute_result"
    }
   ],
   "source": [
    "text='cyclone is a Bad for Cyclone nature Dyclone is just fun'\n",
    "# find 'yclone' in text-string that starts with capital letter\n",
    "pattern='capitalyclone'\n",
    "pattern=r'[A-Z]yclone'  \n",
    "# we make a character class, A-Z we can have any character once\n",
    "\n",
    "match=re.search(pattern,text)\n",
    "match"
   ]
  },
  {
   "cell_type": "code",
   "execution_count": 35,
   "metadata": {},
   "outputs": [
    {
     "name": "stdout",
     "output_type": "stream",
     "text": [
      "<re.Match object; span=(21, 28), match='Cyclone'>\n",
      "<re.Match object; span=(36, 43), match='Dyclone'>\n"
     ]
    }
   ],
   "source": [
    "pattern=r'[A-Z]+yclone'\n",
    "match=re.finditer(pattern,text)\n",
    "for i in match:\n",
    "    print(i)"
   ]
  }
 ],
 "metadata": {
  "kernelspec": {
   "display_name": "Python 3",
   "language": "python",
   "name": "python3"
  },
  "language_info": {
   "codemirror_mode": {
    "name": "ipython",
    "version": 3
   },
   "file_extension": ".py",
   "mimetype": "text/x-python",
   "name": "python",
   "nbconvert_exporter": "python",
   "pygments_lexer": "ipython3",
   "version": "3.10.2"
  },
  "orig_nbformat": 4
 },
 "nbformat": 4,
 "nbformat_minor": 2
}
