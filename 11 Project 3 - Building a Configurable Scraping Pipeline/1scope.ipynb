{
 "cells": [
  {
   "cell_type": "markdown",
   "metadata": {},
   "source": [
    "##### Learning Outcome 1\n",
    "  - JavaScript scraping with Playwright\n",
    "  https://store.steampowered.com/specials \n",
    "    - title\n",
    "    - link to thumbnail\n",
    "    - category tags\n",
    "    - rating\n",
    "    - number of reviews\n",
    "    - original price\n",
    "    - discounted price\n",
    "    - discount %\n",
    "\n",
    "##### Learning Outcome 2\n",
    "  - Code organization & project structure\n",
    "    - render JS with playwright\n",
    "    - Get HTML (fully rendered)\n",
    "    - Extract elements from HTML based on .json config\n",
    "    - Get Raw Attributes\n",
    "    - Apply function transforms, if any\n",
    "    - Save "
   ]
  }
 ],
 "metadata": {
  "language_info": {
   "name": "python"
  },
  "orig_nbformat": 4
 },
 "nbformat": 4,
 "nbformat_minor": 2
}
