{
 "cells": [
  {
   "cell_type": "markdown",
   "metadata": {},
   "source": [
    "#### Items\n",
    "- In Web Scraping, we extract unstructured data which is transformed into structured entities\n",
    "- Items Help in structuring data\n",
    "- They let us define Python classes that express fields we want to extract from web page\n",
    "- Defining a scrapy item class, we declare a schema for data we want\n",
    "- Helps define containers for data we extract with spiders"
   ]
  },
  {
   "cell_type": "markdown",
   "metadata": {},
   "source": [
    "#### Item Loader\n",
    "- Process that populates each instance of item container\n",
    "- Defined in items.py file"
   ]
  }
 ],
 "metadata": {
  "language_info": {
   "name": "python"
  },
  "orig_nbformat": 4
 },
 "nbformat": 4,
 "nbformat_minor": 2
}
