{
 "cells": [
  {
   "cell_type": "markdown",
   "metadata": {},
   "source": [
    "### Scrapy\n",
    "- Fully Featured python web scraping framework\n",
    "- Mature solution with great code organization\n",
    "\n",
    "#### Learning Through the Course:\n",
    "    - HTTP Requests\n",
    "    - Beautiful Soup\n",
    "    - Selectolax\n",
    "    - Manual Parsing\n",
    "    - HTTP -> JavaScript Sites\n",
    "    - Then built Data Processing Transformation Pipeline manually\n",
    "\n",
    "Scrapy does it all & more with few lines of code"
   ]
  }
 ],
 "metadata": {
  "language_info": {
   "name": "python"
  },
  "orig_nbformat": 4
 },
 "nbformat": 4,
 "nbformat_minor": 2
}
