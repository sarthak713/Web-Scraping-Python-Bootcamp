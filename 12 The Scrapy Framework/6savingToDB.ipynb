{
 "cells": [
  {
   "cell_type": "markdown",
   "metadata": {},
   "source": [
    "#### Saving Data in Databases\n",
    "- so far we have been saving data in .csv or .json files\n",
    "- we can also save in databases\n",
    "- Using Pipelines"
   ]
  }
 ],
 "metadata": {
  "language_info": {
   "name": "python"
  },
  "orig_nbformat": 4
 },
 "nbformat": 4,
 "nbformat_minor": 2
}
