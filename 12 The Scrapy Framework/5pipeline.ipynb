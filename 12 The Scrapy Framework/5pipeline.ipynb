{
 "cells": [
  {
   "cell_type": "markdown",
   "metadata": {},
   "source": [
    "#### Pipelines\n",
    "- Python class that implements a simple method: process item\n",
    "- This method takes the item that comes out of item loading process as input \n",
    "- returns a modified item or does some checks & decides that item must not procede further\n",
    "- Implement in pipelines.py\n",
    "- Pipelines are used for: validating scrape data after loading, to check data completeness, check duplicates\n",
    "- Configure Settings.py to execute"
   ]
  }
 ],
 "metadata": {
  "language_info": {
   "name": "python"
  },
  "orig_nbformat": 4
 },
 "nbformat": 4,
 "nbformat_minor": 2
}
