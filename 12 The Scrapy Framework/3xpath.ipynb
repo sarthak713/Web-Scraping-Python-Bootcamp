{
 "cells": [
  {
   "cell_type": "markdown",
   "metadata": {},
   "source": [
    "#### XPath\n",
    "- XPath is query language for XML and XML like documents like HTML\n",
    "- Used to select data out of web page\n",
    "- To navigate around the document object\n",
    "\n",
    "- Alternative to CSS Selectors\n",
    "- Great Support from Scrapy for both XPath or CSS Selectors\n",
    "\n",
    "##### Example:\n",
    "- /html/body/table[3]/tbody/tr/td[2]\n",
    "\n",
    "Skip levels: //table[3]//td[2]      \n",
    "       \n",
    "- //table[@attribute='something']\n",
    "- //table[@class='wiki']\n",
    "\n",
    "Extract class value: //table[3]/@class         \n",
    "\n",
    "Get src attribute value from 1st img: //img[1]/@src             \n",
    "\n",
    "Get text from 2nd td in 3rd table: //table[3]/td[2]/text()   "
   ]
  }
 ],
 "metadata": {
  "language_info": {
   "name": "python"
  },
  "orig_nbformat": 4
 },
 "nbformat": 4,
 "nbformat_minor": 2
}
