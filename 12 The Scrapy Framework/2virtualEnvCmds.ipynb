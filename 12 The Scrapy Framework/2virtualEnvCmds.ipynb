{
 "cells": [
  {
   "cell_type": "markdown",
   "metadata": {},
   "source": [
    "#### Scrapy Setup\n",
    "- pip install Scrapy\n",
    "- It is a fully integrated framework & has several dependencies"
   ]
  },
  {
   "cell_type": "markdown",
   "metadata": {},
   "source": [
    "#### Virtual Environments\n",
    "Folder structure containing copy of Python interpreter, standard library, and set of other libraries that we install\n",
    "\n",
    "Create:     python -m venv env\n",
    "Activate:\n",
    "    - mac = source env/bin/activate\n",
    "    - win = env\\Scripts\\activate.bat\n",
    "Use:        pip install scrapy\n",
    "Confirm:    scrapy --help"
   ]
  },
  {
   "cell_type": "markdown",
   "metadata": {},
   "source": [
    "#### Project & Spider\n",
    "Create Project: scrapy startproject project_name"
   ]
  },
  {
   "cell_type": "markdown",
   "metadata": {},
   "source": [
    "#### Scrapy Spider\n",
    "- Spider is class that defines how a site or web page will be scraped\n",
    "- Spider defines initial HTTP request that we need to make, & optionally any links we need to follow\n",
    "- And how to parse downloaded HTML content to extract data\n",
    "\n",
    "#### Create a Spider\n",
    "- Go to project folder: cd countries_gdp\n",
    "- Run: scrapy genspider spider_name placeholder_url\n",
    "-     : scrapy genspider gdp wikipedia.org"
   ]
  },
  {
   "cell_type": "markdown",
   "metadata": {},
   "source": [
    "#### To Run Spider:\n",
    "- go to project dir: cd 'project_name'\n",
    "- Run command: scrapy crawl spider_name\n",
    "\n",
    "- Run Scrapy Shell: scrapy shell \"url\""
   ]
  },
  {
   "cell_type": "markdown",
   "metadata": {},
   "source": [
    "#### Output\n",
    "- scrapy crawl spider_name -o filename.csv\n",
    "- scrapy crawl spider_name -o filename.json\n",
    "- File Already Exists: scrapy crawl spider_name -O filename.csv"
   ]
  }
 ],
 "metadata": {
  "language_info": {
   "name": "python"
  },
  "orig_nbformat": 4
 },
 "nbformat": 4,
 "nbformat_minor": 2
}
