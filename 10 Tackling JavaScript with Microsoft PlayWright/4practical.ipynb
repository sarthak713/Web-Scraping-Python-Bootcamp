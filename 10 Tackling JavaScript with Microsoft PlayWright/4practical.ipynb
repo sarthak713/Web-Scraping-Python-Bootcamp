{
 "cells": [
  {
   "cell_type": "markdown",
   "metadata": {},
   "source": [
    "#### Implementing Playwright\n",
    "\n",
    "- Install In Terminal: pip install playwright\n",
    "- Also install Browser: playwright install chromium"
   ]
  },
  {
   "cell_type": "code",
   "execution_count": 10,
   "metadata": {},
   "outputs": [],
   "source": [
    "from playwright.sync_api import sync_playwright\n",
    "# sync_api = synchronous api \n",
    "from playwright.async_api import async_playwright\n",
    "from selectolax.parser import HTMLParser"
   ]
  },
  {
   "cell_type": "code",
   "execution_count": 18,
   "metadata": {},
   "outputs": [],
   "source": [
    "# use playwright\n",
    "def extract_full_body_html(url):\n",
    "    with sync_playwright() as p:                       # using sync_playwright as context manager                   \n",
    "        browser=p.chromium.launch(headless=True)      # we need to launch a new browser than open a new page in it\n",
    "        page=browser.new_page()\n",
    "        page.goto(url)\n",
    "    # Now, we head over to website\n",
    "    # playwright starts rendering all JS that initial html doc points to\n",
    "        TIMEOUT=90000\n",
    "        page.wait_for_load_state('networkidle', timeout=TIMEOUT)         \n",
    "        # stay on page until there are no ore network calls\n",
    "        page.wait_for_selector('div.visualization-section__data',timeout=TIMEOUT)\n",
    "        # wait for this selector\n",
    "        return page.inner_html('body')\n",
    "    "
   ]
  },
  {
   "cell_type": "code",
   "execution_count": 19,
   "metadata": {},
   "outputs": [],
   "source": [
    "# use selectolax\n",
    "def extract_budget(html):\n",
    "    tree=HTMLParser(html)\n",
    "    budget_div=tree.css_first('div.amount-value')\n",
    "    return budget_div.text()"
   ]
  },
  {
   "cell_type": "code",
   "execution_count": null,
   "metadata": {},
   "outputs": [],
   "source": [
    "url='https://www.usaspending.gov/agency/department-of-defence?fy=2023'\n",
    "url='https://www.usaspending.gov/explorer/agency'\n",
    "html=extract_full_body_html(url)\n",
    "print(extract_budget(html))"
   ]
  }
 ],
 "metadata": {
  "kernelspec": {
   "display_name": "Python 3",
   "language": "python",
   "name": "python3"
  },
  "language_info": {
   "codemirror_mode": {
    "name": "ipython",
    "version": 3
   },
   "file_extension": ".py",
   "mimetype": "text/x-python",
   "name": "python",
   "nbconvert_exporter": "python",
   "pygments_lexer": "ipython3",
   "version": "3.10.2"
  },
  "orig_nbformat": 4
 },
 "nbformat": 4,
 "nbformat_minor": 2
}
