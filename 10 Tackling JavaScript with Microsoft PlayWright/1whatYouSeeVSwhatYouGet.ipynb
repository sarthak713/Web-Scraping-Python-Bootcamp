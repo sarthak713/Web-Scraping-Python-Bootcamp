{
 "cells": [
  {
   "cell_type": "markdown",
   "metadata": {},
   "source": [
    "### So far:\n",
    "    - we have managed to extract full html of web page\n",
    "    - using requests & httpx library\n",
    "    - that html doc corresponds to what we see visually on web page\n",
    "    - this is not always the case\n",
    "\n",
    "    - In Modern Website, websites are dynamically rendered using JS\n",
    "    - HTML that first comes back from server is not the final of what is rendered in browser\n",
    "\n",
    "### This happends in some steps:\n",
    "    1. server sends minimal HTML doc with .js links\n",
    "    2. User agent responsible for rendering the page, requests those JS resources\n",
    "    3. then User agent renders the JS code\n",
    "    4. that JS returns some info or dynamically reshapes the document model\n",
    "\n",
    "### So in many web pages:\n",
    "    - What we see is not what we get in the response when we try to scrape the information\n",
    "    - most of the html tags what we get back in response or what we visually see\n",
    "    - are tags injected dynamically by JavaScript \n",
    "\n",
    "### How to know when this happens:\n",
    "    - View page source\n",
    "    - if we get not a lot of content\n",
    "    - or find for any visual element & we have no matches\n",
    "\n",
    "So we need to find a way to render JS before we get to extraction of Data."
   ]
  }
 ],
 "metadata": {
  "language_info": {
   "name": "python"
  },
  "orig_nbformat": 4
 },
 "nbformat": 4,
 "nbformat_minor": 2
}
