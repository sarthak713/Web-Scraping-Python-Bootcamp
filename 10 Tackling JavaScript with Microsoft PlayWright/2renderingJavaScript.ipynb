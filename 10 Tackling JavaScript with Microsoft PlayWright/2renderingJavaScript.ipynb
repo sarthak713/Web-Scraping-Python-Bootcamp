{
 "cells": [
  {
   "cell_type": "markdown",
   "metadata": {},
   "source": [
    "## To render the HTML before extracting info:\n",
    "\n",
    "### Option 1: Use requests-html library\n",
    "\n",
    "- it is built on top of requests library\n",
    "- but also allows us to render JS\n",
    "- it does this by using a headless browser in the background (does not have a User Interface)\n",
    "- pip install requests-html"
   ]
  },
  {
   "cell_type": "code",
   "execution_count": 1,
   "metadata": {},
   "outputs": [],
   "source": [
    "# from requests import get\n",
    "from requests_html import HTMLSession\n",
    "from selectolax.parser import HTMLParser"
   ]
  },
  {
   "cell_type": "code",
   "execution_count": 2,
   "metadata": {},
   "outputs": [],
   "source": [
    "def show_me_money():\n",
    "    url='https://www.usaspending.gov/agency/department-of-defence?fy=2023'\n",
    "\n",
    "    # reponse=get(url)\n",
    "    session=HTMLSession()                           # create session\n",
    "\n",
    "    response=session.get(url)                       # get response\n",
    "    response.html.render(sleep=1,scrolldown=1)      # options\n",
    "\n",
    "    if response.status_code==200:\n",
    "        tree=HTMLParser(response.text)\n",
    "        budget=tree.css_first('div.visualization-section__data')\n",
    "        return budget.text()\n",
    "    else:\n",
    "        return f'could not get data: {response.status_code}'\n",
    "    \n",
    "show_me_money()"
   ]
  },
  {
   "cell_type": "markdown",
   "metadata": {},
   "source": [
    "### Option 2 - Splash\n",
    "\n",
    "- control JavaScript rendering using python API: Splash\n",
    "- integrates well with Scrapy (python framework for web scraping)\n",
    "- Have to use a headless browser with it, to avoid complexity\n"
   ]
  },
  {
   "cell_type": "markdown",
   "metadata": {},
   "source": [
    "### Option 3 - Full Headless browser\n",
    "\n",
    "- Used for automating web apps for testing\n",
    "- Example: Selenium, Cypress, Microsoft Playwright"
   ]
  }
 ],
 "metadata": {
  "kernelspec": {
   "display_name": "Python 3",
   "language": "python",
   "name": "python3"
  },
  "language_info": {
   "codemirror_mode": {
    "name": "ipython",
    "version": 3
   },
   "file_extension": ".py",
   "mimetype": "text/x-python",
   "name": "python",
   "nbconvert_exporter": "python",
   "pygments_lexer": "ipython3",
   "version": "3.10.2"
  },
  "orig_nbformat": 4
 },
 "nbformat": 4,
 "nbformat_minor": 2
}
