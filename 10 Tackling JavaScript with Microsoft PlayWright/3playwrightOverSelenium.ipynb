{
 "cells": [
  {
   "cell_type": "markdown",
   "metadata": {},
   "source": [
    "### Playwright Over Selenium\n",
    "\n",
    "- https://playwright.dev/python/docs/intro \n",
    "- Playwright is the headless browser of our choice over Selenium\n",
    "- It has taken the best of Selenium & improved over it\n",
    "- Great community & documentation"
   ]
  },
  {
   "cell_type": "markdown",
   "metadata": {},
   "source": [
    "### Good to know: Microsoft Playwright\n",
    "\n",
    "#### 1. \n",
    "\n",
    "- We'll use Playwright as a headless broswer for Scraping\n",
    "- It is much more capable: it is also used for web Automation, popular in Software testing world\n",
    "- Used for Robotic Process Automation & web software testing\n",
    "\n",
    "#### 2.\n",
    "\n",
    "- seamless cross-broswer compatibility\n",
    "\n",
    "#### 3.\n",
    "\n",
    "- cleaner API\n",
    "- better architecture\n",
    "- better performance"
   ]
  }
 ],
 "metadata": {
  "language_info": {
   "name": "python"
  },
  "orig_nbformat": 4
 },
 "nbformat": 4,
 "nbformat_minor": 2
}
