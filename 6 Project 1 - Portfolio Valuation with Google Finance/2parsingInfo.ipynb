{
 "cells": [
  {
   "cell_type": "code",
   "execution_count": 13,
   "metadata": {},
   "outputs": [],
   "source": [
    "import requests \n",
    "\n",
    "from bs4 import BeautifulSoup"
   ]
  },
  {
   "cell_type": "code",
   "execution_count": 36,
   "metadata": {},
   "outputs": [],
   "source": [
    "# function to convert other currency to USD\n",
    "def get_fx_to_usd(currency):\n",
    "    fx_url=f'https://www.google.com/finance/quote/{currency}-USD' \n",
    "    response=requests.get(fx_url)                                    \n",
    "    soup=BeautifulSoup(response.content,\"html.parser\")            \n",
    "    fx_rate=soup.find('div',attrs={'data-last-price':True})     \n",
    "    fx=float(fx_rate['data-last-price'])\n",
    "    return fx"
   ]
  },
  {
   "cell_type": "code",
   "execution_count": 38,
   "metadata": {},
   "outputs": [
    {
     "data": {
      "text/plain": [
       "{'ticker': 'SHOP',\n",
       " 'exchange': 'NYSE',\n",
       " 'price': 69.76,\n",
       " 'currency': 'USD',\n",
       " 'usd_price': 69.76}"
      ]
     },
     "execution_count": 38,
     "metadata": {},
     "output_type": "execute_result"
    }
   ],
   "source": [
    "# function to get price of a stock\n",
    "def get_price_info(ticker,exchange):                                    # ticker=company, exchange=standard\n",
    "    url=f'https://www.google.com/finance/quote/{ticker}:{exchange}'     # fstring to embed expressions in string\n",
    "    response=requests.get(url)                                          # get html\n",
    "    soup=BeautifulSoup(response.content,\"html.parser\")                  # parse html response content\n",
    "    price_div=soup.find('div',attrs={'data-last-price':True})           # get div with data-last-price attribute, True means has some value\n",
    "    price=float(price_div['data-last-price'])                           # get price as float\n",
    "    currency=price_div['data-currency-code']                            # get currency\n",
    "    \n",
    "    usd_price=price\n",
    "    if(currency!='USD'):                                                # convert currency to USD\n",
    "        fx=get_fx_to_usd(currency)\n",
    "        usd_price=round(price*fx,2)\n",
    "    \n",
    "    return {\n",
    "        'ticker':ticker,\n",
    "        'exchange':exchange,\n",
    "        'price':price,\n",
    "        'currency':currency,\n",
    "        'usd_price':usd_price\n",
    "    }\n",
    "\n",
    "get_price_info('ENB','TSE')"
   ]
  }
 ],
 "metadata": {
  "kernelspec": {
   "display_name": "Python 3",
   "language": "python",
   "name": "python3"
  },
  "language_info": {
   "codemirror_mode": {
    "name": "ipython",
    "version": 3
   },
   "file_extension": ".py",
   "mimetype": "text/x-python",
   "name": "python",
   "nbconvert_exporter": "python",
   "pygments_lexer": "ipython3",
   "version": "3.10.2"
  },
  "orig_nbformat": 4
 },
 "nbformat": 4,
 "nbformat_minor": 2
}
