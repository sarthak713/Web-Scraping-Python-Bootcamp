{
 "cells": [
  {
   "cell_type": "code",
   "execution_count": null,
   "metadata": {},
   "outputs": [],
   "source": [
    "# Project 1: Scope\n",
    "\n",
    "#   - scrape price info from from Google Finance,\n",
    "#     given some ticker and exchange \n",
    "#   - summarize portfolio valuation for an arbitrary\n",
    "#     number of positions\n",
    "#   - solution should reflext USD amounts only, \n",
    "#     but also support positions listed in other currencies\n",
    "#     i.e. should support some sort of FX-ing capability\n",
    "\n",
    "# https://www.google.com/finance/ \n",
    "\n",
    "# Dependencies:\n",
    "# - requests==2.28.2\n",
    "# - beautifulsoup4==4.11.2"
   ]
  }
 ],
 "metadata": {
  "language_info": {
   "name": "python"
  },
  "orig_nbformat": 4
 },
 "nbformat": 4,
 "nbformat_minor": 2
}
