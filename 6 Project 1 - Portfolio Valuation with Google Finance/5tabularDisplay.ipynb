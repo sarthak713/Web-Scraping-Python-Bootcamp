{
 "cells": [
  {
   "cell_type": "code",
   "execution_count": 9,
   "metadata": {},
   "outputs": [],
   "source": [
    "# Displaying Information in Tabular Format\n",
    "    # pip install tabulate"
   ]
  },
  {
   "cell_type": "code",
   "execution_count": 1,
   "metadata": {},
   "outputs": [],
   "source": [
    "import requests \n",
    "from bs4 import BeautifulSoup\n",
    "\n",
    "from dataclasses import dataclass\n",
    "\n",
    "from tabulate import tabulate\n",
    "\n",
    "@dataclass\n",
    "class Stock:\n",
    "    ticker: str\n",
    "    exchange: str\n",
    "    price: float=0\n",
    "    currency: str='USD'\n",
    "    usd_price: float=0\n",
    "\n",
    "    def __post_init__(self):                                    \n",
    "        price_info=get_price_info(self.ticker,self.exchange)    \n",
    "        if price_info['ticker']==self.ticker:                   \n",
    "            self.price=price_info['price']\n",
    "            self.currency=price_info['currency']\n",
    "            self.usd_price=price_info['usd_price']\n",
    "\n",
    "\n",
    "@dataclass\n",
    "class Position:\n",
    "    stock: Stock\n",
    "    quantity: int\n",
    "\n",
    "\n",
    "@dataclass\n",
    "class Portfolio:\n",
    "    positions: list[Position]\n",
    "\n",
    "    def get_total_value(self):      # self is automatically populated, because get_totoal_val is an instance method & all instance methods in python have 'self' as their first argument\n",
    "        total_value=0\n",
    "        for position in self.positions:\n",
    "            total_value+=position.quantity*position.stock.usd_price\n",
    "        return total_value\n",
    "\n",
    "\n",
    "\n",
    "def get_fx_to_usd(currency):\n",
    "    fx_url=f'https://www.google.com/finance/quote/{currency}-USD' \n",
    "    response=requests.get(fx_url)                                    \n",
    "    soup=BeautifulSoup(response.content,\"html.parser\")            \n",
    "    fx_rate=soup.find('div',attrs={'data-last-price':True})     \n",
    "    fx=float(fx_rate['data-last-price'])\n",
    "    return fx\n",
    "\n",
    "\n",
    "def get_price_info(ticker,exchange):                                    \n",
    "    url=f'https://www.google.com/finance/quote/{ticker}:{exchange}'     \n",
    "    response=requests.get(url)                                       \n",
    "    soup=BeautifulSoup(response.content,\"html.parser\")               \n",
    "    price_div=soup.find('div',attrs={'data-last-price':True})        \n",
    "    price=float(price_div['data-last-price'])                        \n",
    "    currency=price_div['data-currency-code']                         \n",
    "    \n",
    "    usd_price=price\n",
    "    if(currency!='USD'):                                             \n",
    "        fx=get_fx_to_usd(currency)\n",
    "        usd_price=round(price*fx,2)\n",
    "    \n",
    "    return {\n",
    "        'ticker':ticker,\n",
    "        'exchange':exchange,\n",
    "        'price':price,\n",
    "        'currency':currency,\n",
    "        'usd_price':usd_price\n",
    "    }"
   ]
  },
  {
   "cell_type": "code",
   "execution_count": 11,
   "metadata": {},
   "outputs": [],
   "source": [
    "shop=Stock('SHOP','TSE')\n",
    "tsla=Stock('TSLA','NASDAQ')\n",
    "aapl=Stock('AAPL','NASDAQ')\n",
    "amzn=Stock('AMZN','NASDAQ')\n",
    "\n",
    "portfolio=Portfolio([Position(shop,10), Position(tsla,5), Position(aapl,7), Position(amzn,10)])\n",
    "\n",
    "# portfolio \n",
    "# portfolio.get_total_value()"
   ]
  },
  {
   "cell_type": "code",
   "execution_count": 12,
   "metadata": {},
   "outputs": [],
   "source": [
    "def display_portfolio_summary(portfolio):\n",
    "    \n",
    "    if not isinstance(portfolio,Portfolio):\n",
    "        raise TypeError('Please provide an instance of Portfolio Type')\n",
    "    \n",
    "    portfolio_value=portfolio.get_total_value()\n",
    "\n",
    "    position_data=[]\n",
    "    for position in portfolio.positions:\n",
    "        position_data.append([\n",
    "            position.stock.ticker,\n",
    "            position.stock.exchange,\n",
    "            position.quantity,\n",
    "            position.stock.usd_price,\n",
    "            position.quantity*position.stock.usd_price,\n",
    "            position.quantity*position.stock.usd_price/portfolio_value*100\n",
    "        ])\n",
    "\n",
    "    print(tabulate(position_data,\n",
    "                   headers=['Ticker', 'Exchange', 'Quantity', 'Price', 'Market Value', '% Allocation'],\n",
    "                   tablefmt='psql',\n",
    "                   floatfmt='.2f'\n",
    "                   ))\n",
    "    print(f'Total Portfolio Value: ${portfolio_value:,.2f}.')\n"
   ]
  },
  {
   "cell_type": "code",
   "execution_count": 13,
   "metadata": {},
   "outputs": [
    {
     "name": "stdout",
     "output_type": "stream",
     "text": [
      "+----------+------------+------------+---------+----------------+----------------+\n",
      "| Ticker   | Exchange   |   Quantity |   Price |   Market Value |   % Allocation |\n",
      "|----------+------------+------------+---------+----------------+----------------|\n",
      "| SHOP     | TSE        |         10 |   68.67 |         686.70 |          14.21 |\n",
      "| TSLA     | NASDAQ     |          5 |  290.38 |        1451.90 |          30.05 |\n",
      "| AAPL     | NASDAQ     |          7 |  193.99 |        1357.93 |          28.10 |\n",
      "| AMZN     | NASDAQ     |         10 |  133.56 |        1335.60 |          27.64 |\n",
      "+----------+------------+------------+---------+----------------+----------------+\n",
      "Total Portfolio Value: $4,832.13.\n"
     ]
    }
   ],
   "source": [
    "display_portfolio_summary(portfolio)"
   ]
  }
 ],
 "metadata": {
  "kernelspec": {
   "display_name": "Python 3",
   "language": "python",
   "name": "python3"
  },
  "language_info": {
   "codemirror_mode": {
    "name": "ipython",
    "version": 3
   },
   "file_extension": ".py",
   "mimetype": "text/x-python",
   "name": "python",
   "nbconvert_exporter": "python",
   "pygments_lexer": "ipython3",
   "version": "3.10.2"
  },
  "orig_nbformat": 4
 },
 "nbformat": 4,
 "nbformat_minor": 2
}
