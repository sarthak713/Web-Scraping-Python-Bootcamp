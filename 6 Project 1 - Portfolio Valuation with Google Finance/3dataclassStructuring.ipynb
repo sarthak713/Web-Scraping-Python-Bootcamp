{
 "cells": [
  {
   "cell_type": "code",
   "execution_count": null,
   "metadata": {},
   "outputs": [],
   "source": [
    "# Defining new types to handle data to represent: \n",
    "# Stock -> Position -> Portfolio\n",
    "    # Stock = ticker, exchange, currency, price\n",
    "    # Position = stock + qauntity\n",
    "    # Portfolio = combination of positions\n",
    "\n",
    "# ultimate goal is to display portfolio valuation: summary of all position we hold & current market value\n",
    "\n",
    "# Dataclasses will be useful to organize this info\n",
    "    # specialized class in python suited for holding data"
   ]
  },
  {
   "cell_type": "code",
   "execution_count": 11,
   "metadata": {},
   "outputs": [],
   "source": [
    "import requests \n",
    "from bs4 import BeautifulSoup\n",
    "\n",
    "from dataclasses import dataclass\n",
    "\n",
    "@dataclass\n",
    "class Stock:\n",
    "    ticker: str\n",
    "    exchange: str\n",
    "    price: float=0\n",
    "    currency: str='USD'\n",
    "    usd_price: float=0\n",
    "\n",
    "    def __post_init__(self):                                    # executes after initialization of class & its properties\n",
    "        price_info=get_price_info(self.ticker,self.exchange)    # have to get hold of values to instance of stock being created, self points to Stock type Object\n",
    "        if price_info['ticker']==self.ticker:                   # to make sure all info is correct\n",
    "            self.price=price_info['price']\n",
    "            self.currency=price_info['currency']\n",
    "            self.usd_price=price_info['usd_price']\n",
    "\n",
    "\n",
    "def get_fx_to_usd(currency):\n",
    "    fx_url=f'https://www.google.com/finance/quote/{currency}-USD' \n",
    "    response=requests.get(fx_url)                                    \n",
    "    soup=BeautifulSoup(response.content,\"html.parser\")            \n",
    "    fx_rate=soup.find('div',attrs={'data-last-price':True})     \n",
    "    fx=float(fx_rate['data-last-price'])\n",
    "    return fx\n",
    "\n",
    "\n",
    "def get_price_info(ticker,exchange):                                    \n",
    "    url=f'https://www.google.com/finance/quote/{ticker}:{exchange}'     \n",
    "    response=requests.get(url)                                       \n",
    "    soup=BeautifulSoup(response.content,\"html.parser\")               \n",
    "    price_div=soup.find('div',attrs={'data-last-price':True})        \n",
    "    price=float(price_div['data-last-price'])                        \n",
    "    currency=price_div['data-currency-code']                         \n",
    "    \n",
    "    usd_price=price\n",
    "    if(currency!='USD'):                                             \n",
    "        fx=get_fx_to_usd(currency)\n",
    "        usd_price=round(price*fx,2)\n",
    "    \n",
    "    return {\n",
    "        'ticker':ticker,\n",
    "        'exchange':exchange,\n",
    "        'price':price,\n",
    "        'currency':currency,\n",
    "        'usd_price':usd_price\n",
    "    }"
   ]
  },
  {
   "cell_type": "code",
   "execution_count": 12,
   "metadata": {},
   "outputs": [
    {
     "data": {
      "text/plain": [
       "Stock(ticker='SHOP', exchange='TSE', price=90.63, currency='CAD', usd_price=68.71)"
      ]
     },
     "execution_count": 12,
     "metadata": {},
     "output_type": "execute_result"
    }
   ],
   "source": [
    "Stock('SHOP','TSE')"
   ]
  },
  {
   "cell_type": "code",
   "execution_count": null,
   "metadata": {},
   "outputs": [],
   "source": []
  },
  {
   "cell_type": "code",
   "execution_count": null,
   "metadata": {},
   "outputs": [],
   "source": []
  },
  {
   "cell_type": "code",
   "execution_count": null,
   "metadata": {},
   "outputs": [],
   "source": []
  },
  {
   "cell_type": "code",
   "execution_count": null,
   "metadata": {},
   "outputs": [],
   "source": []
  },
  {
   "cell_type": "code",
   "execution_count": null,
   "metadata": {},
   "outputs": [],
   "source": []
  },
  {
   "cell_type": "code",
   "execution_count": null,
   "metadata": {},
   "outputs": [],
   "source": []
  }
 ],
 "metadata": {
  "kernelspec": {
   "display_name": "Python 3",
   "language": "python",
   "name": "python3"
  },
  "language_info": {
   "codemirror_mode": {
    "name": "ipython",
    "version": 3
   },
   "file_extension": ".py",
   "mimetype": "text/x-python",
   "name": "python",
   "nbconvert_exporter": "python",
   "pygments_lexer": "ipython3",
   "version": "3.10.2"
  },
  "orig_nbformat": 4
 },
 "nbformat": 4,
 "nbformat_minor": 2
}
