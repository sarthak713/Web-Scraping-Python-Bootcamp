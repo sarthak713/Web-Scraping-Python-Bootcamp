{
 "cells": [
  {
   "cell_type": "code",
   "execution_count": 20,
   "metadata": {},
   "outputs": [],
   "source": [
    "# Position & Portfolio\n",
    "\n",
    "# Position = combination of some specific stock & its quantity\n",
    "# Portfolio = list of position types"
   ]
  },
  {
   "cell_type": "code",
   "execution_count": 21,
   "metadata": {},
   "outputs": [],
   "source": [
    "import requests \n",
    "from bs4 import BeautifulSoup\n",
    "\n",
    "from dataclasses import dataclass\n",
    "\n",
    "@dataclass\n",
    "class Stock:\n",
    "    ticker: str\n",
    "    exchange: str\n",
    "    price: float=0\n",
    "    currency: str='USD'\n",
    "    usd_price: float=0\n",
    "\n",
    "    def __post_init__(self):                                    \n",
    "        price_info=get_price_info(self.ticker,self.exchange)    \n",
    "        if price_info['ticker']==self.ticker:                   \n",
    "            self.price=price_info['price']\n",
    "            self.currency=price_info['currency']\n",
    "            self.usd_price=price_info['usd_price']\n",
    "\n",
    "\n",
    "@dataclass\n",
    "class Position:\n",
    "    stock: Stock\n",
    "    quantity: int\n",
    "\n",
    "\n",
    "@dataclass\n",
    "class Portfolio:\n",
    "    positions: list[Position]\n",
    "\n",
    "    def get_total_value(self):      # self is automatically populated, because get_totoal_val is an instance method & all instance methods in python have 'self' as their first argument\n",
    "        total_value=0\n",
    "        for position in self.positions:\n",
    "            total_value+=position.quantity*position.stock.usd_price\n",
    "        return total_value\n",
    "\n",
    "\n",
    "\n",
    "def get_fx_to_usd(currency):\n",
    "    fx_url=f'https://www.google.com/finance/quote/{currency}-USD' \n",
    "    response=requests.get(fx_url)                                    \n",
    "    soup=BeautifulSoup(response.content,\"html.parser\")            \n",
    "    fx_rate=soup.find('div',attrs={'data-last-price':True})     \n",
    "    fx=float(fx_rate['data-last-price'])\n",
    "    return fx\n",
    "\n",
    "\n",
    "def get_price_info(ticker,exchange):                                    \n",
    "    url=f'https://www.google.com/finance/quote/{ticker}:{exchange}'     \n",
    "    response=requests.get(url)                                       \n",
    "    soup=BeautifulSoup(response.content,\"html.parser\")               \n",
    "    price_div=soup.find('div',attrs={'data-last-price':True})        \n",
    "    price=float(price_div['data-last-price'])                        \n",
    "    currency=price_div['data-currency-code']                         \n",
    "    \n",
    "    usd_price=price\n",
    "    if(currency!='USD'):                                             \n",
    "        fx=get_fx_to_usd(currency)\n",
    "        usd_price=round(price*fx,2)\n",
    "    \n",
    "    return {\n",
    "        'ticker':ticker,\n",
    "        'exchange':exchange,\n",
    "        'price':price,\n",
    "        'currency':currency,\n",
    "        'usd_price':usd_price\n",
    "    }"
   ]
  },
  {
   "cell_type": "code",
   "execution_count": 22,
   "metadata": {},
   "outputs": [
    {
     "data": {
      "text/plain": [
       "Stock(ticker='AMZN', exchange='NASDAQ', price=133.56, currency='USD', usd_price=133.56)"
      ]
     },
     "execution_count": 22,
     "metadata": {},
     "output_type": "execute_result"
    }
   ],
   "source": [
    "shop=Stock('SHOP','TSE')\n",
    "tsla=Stock('TSLA','NASDAQ')\n",
    "aapl=Stock('AAPL','NASDAQ')\n",
    "amzn=Stock('AMZN','NASDAQ')\n",
    "amzn"
   ]
  },
  {
   "cell_type": "code",
   "execution_count": 23,
   "metadata": {},
   "outputs": [
    {
     "data": {
      "text/plain": [
       "Position(stock=Stock(ticker='AAPL', exchange='NASDAQ', price=193.99, currency='USD', usd_price=193.99), quantity=10)"
      ]
     },
     "execution_count": 23,
     "metadata": {},
     "output_type": "execute_result"
    }
   ],
   "source": [
    "Position(aapl,10)\n",
    "# consists of an instance of Stock (user-defined), also has a quantity"
   ]
  },
  {
   "cell_type": "code",
   "execution_count": 24,
   "metadata": {},
   "outputs": [
    {
     "data": {
      "text/plain": [
       "Portfolio(positions=[Position(stock=Stock(ticker='SHOP', exchange='TSE', price=90.63, currency='CAD', usd_price=68.73), quantity=10), Position(stock=Stock(ticker='TSLA', exchange='NASDAQ', price=290.38, currency='USD', usd_price=290.38), quantity=5), Position(stock=Stock(ticker='AAPL', exchange='NASDAQ', price=193.99, currency='USD', usd_price=193.99), quantity=7), Position(stock=Stock(ticker='AMZN', exchange='NASDAQ', price=133.56, currency='USD', usd_price=133.56), quantity=10)])"
      ]
     },
     "execution_count": 24,
     "metadata": {},
     "output_type": "execute_result"
    }
   ],
   "source": [
    "portfolio=Portfolio([Position(shop,10), Position(tsla,5), Position(aapl,7), Position(amzn,10)])\n",
    "portfolio"
   ]
  },
  {
   "cell_type": "code",
   "execution_count": 25,
   "metadata": {},
   "outputs": [
    {
     "data": {
      "text/plain": [
       "4832.73"
      ]
     },
     "execution_count": 25,
     "metadata": {},
     "output_type": "execute_result"
    }
   ],
   "source": [
    "portfolio.get_total_value()"
   ]
  }
 ],
 "metadata": {
  "kernelspec": {
   "display_name": "Python 3",
   "language": "python",
   "name": "python3"
  },
  "language_info": {
   "codemirror_mode": {
    "name": "ipython",
    "version": 3
   },
   "file_extension": ".py",
   "mimetype": "text/x-python",
   "name": "python",
   "nbconvert_exporter": "python",
   "pygments_lexer": "ipython3",
   "version": "3.10.2"
  },
  "orig_nbformat": 4
 },
 "nbformat": 4,
 "nbformat_minor": 2
}
