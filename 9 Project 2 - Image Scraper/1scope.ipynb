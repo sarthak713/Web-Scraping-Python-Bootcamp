{
 "cells": [
  {
   "cell_type": "code",
   "execution_count": null,
   "metadata": {},
   "outputs": [],
   "source": [
    "'''\n",
    "Scope Statement:\n",
    "    - write a python script that scrapes images from unsplash\n",
    "    - the utility should download the highest resolution image that pertains to a given keyword\n",
    "    - premium,watermark images should be excluded\n",
    "    - for extra practice, explore HTML-based scraping in addition to API-based route\n",
    "    - same interface: scrape('water',10)\n",
    "\n",
    "    - Use unsplash\n",
    "'''"
   ]
  }
 ],
 "metadata": {
  "language_info": {
   "name": "python"
  },
  "orig_nbformat": 4
 },
 "nbformat": 4,
 "nbformat_minor": 2
}
