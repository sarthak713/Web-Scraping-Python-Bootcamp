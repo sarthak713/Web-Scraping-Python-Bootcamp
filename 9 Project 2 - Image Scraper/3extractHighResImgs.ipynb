{
 "cells": [
  {
   "cell_type": "code",
   "execution_count": 2,
   "metadata": {},
   "outputs": [],
   "source": [
    "from httpx import get\n",
    "from selectolax.parser import HTMLParser\n",
    "\n",
    "def get_img_tags_for(term=None):\n",
    "    if not term:\n",
    "        raise Exception('No search term provided')\n",
    "\n",
    "    url=f'https://unsplash.com/s/photos/{term}'\n",
    "    response=get(url)\n",
    "\n",
    "    if response.status_code!=200:\n",
    "        raise Exception('Error getting response')\n",
    "    \n",
    "    tree=HTMLParser(response.text)\n",
    "    imgs=tree.css('figure a img')\n",
    "    return imgs\n",
    "\n",
    "def img_filter_out(url: str,keywords: list) -> bool:    # takes str, list returns boolean\n",
    "    return not any(x in url for x in keywords)"
   ]
  },
  {
   "cell_type": "code",
   "execution_count": 11,
   "metadata": {},
   "outputs": [],
   "source": [
    "# func to get HighRes img from SourceSet (srcset) attribute in img tags\n",
    "\n",
    "def get_high_res_img_url(img_node):\n",
    "    \n",
    "    srcset=img_node.attrs['srcset']     # for each img node, get the srcset\n",
    "    srcset_list=srcset.split(', ')      # make a list out of src set splitting with ', '\n",
    "    \n",
    "    url_res=[src.split(' ') for src in srcset_list if img_filter_out(src,['plus','premium','profile'])]     # filter out\n",
    "\n",
    "    if not url_res:\n",
    "        return None\n",
    "\n",
    "    return url_res[0][0].split('?')[0]  # observation: no need to traverse srcset to get high res img, if we remove all link after query param we get a base url, that gives highres img"
   ]
  },
  {
   "cell_type": "code",
   "execution_count": 12,
   "metadata": {},
   "outputs": [
    {
     "name": "stdout",
     "output_type": "stream",
     "text": [
      "['https://images.unsplash.com/photo-1464802686167-b939a6910659', 'https://images.unsplash.com/photo-1419242902214-272b3f66ee7a', 'https://images.unsplash.com/photo-1538370965046-79c0d6907d47', 'https://images.unsplash.com/photo-1528722828814-77b9b83aafb2', 'https://images.unsplash.com/photo-1462331940025-496dfbfc7564', 'https://images.unsplash.com/photo-1505506874110-6a7a69069a08', 'https://images.unsplash.com/photo-1530508777238-14544088c3ed', 'https://images.unsplash.com/photo-1502134249126-9f3755a50d78', 'https://images.unsplash.com/photo-1462332420958-a05d1e002413', 'https://images.unsplash.com/photo-1531306728370-e2ebd9d7bb99', 'https://images.unsplash.com/photo-1444703686981-a3abbc4d4fe3', 'https://images.unsplash.com/photo-1570284613060-766c33850e00', 'https://images.unsplash.com/photo-1506703719100-a0f3a48c0f86', 'https://images.unsplash.com/photo-1465101162946-4377e57745c3', 'https://images.unsplash.com/photo-1614926037384-4159c33e196b', 'https://images.unsplash.com/photo-1516331138075-f3adc1e149cd', 'https://images.unsplash.com/photo-1528722828814-77b9b83aafb2', 'https://images.unsplash.com/photo-1530508777238-14544088c3ed', 'https://images.unsplash.com/photo-1462332420958-a05d1e002413', 'https://images.unsplash.com/photo-1444703686981-a3abbc4d4fe3', 'https://images.unsplash.com/photo-1570284613060-766c33850e00', 'https://images.unsplash.com/photo-1465101162946-4377e57745c3', 'https://images.unsplash.com/photo-1516331138075-f3adc1e149cd', 'https://images.unsplash.com/photo-1464802686167-b939a6910659', 'https://images.unsplash.com/photo-1419242902214-272b3f66ee7a', 'https://images.unsplash.com/photo-1538370965046-79c0d6907d47', 'https://images.unsplash.com/photo-1462331940025-496dfbfc7564', 'https://images.unsplash.com/photo-1505506874110-6a7a69069a08', 'https://images.unsplash.com/photo-1502134249126-9f3755a50d78', 'https://images.unsplash.com/photo-1531306728370-e2ebd9d7bb99', 'https://images.unsplash.com/photo-1506703719100-a0f3a48c0f86', 'https://images.unsplash.com/photo-1614926037384-4159c33e196b', 'https://images.unsplash.com/photo-1505506874110-6a7a69069a08', 'https://images.unsplash.com/photo-1462332420958-a05d1e002413', 'https://images.unsplash.com/photo-1570284613060-766c33850e00', 'https://images.unsplash.com/photo-1614926037384-4159c33e196b', 'https://images.unsplash.com/photo-1464802686167-b939a6910659', 'https://images.unsplash.com/photo-1528722828814-77b9b83aafb2', 'https://images.unsplash.com/photo-1502134249126-9f3755a50d78', 'https://images.unsplash.com/photo-1531306728370-e2ebd9d7bb99', 'https://images.unsplash.com/photo-1465101162946-4377e57745c3', 'https://images.unsplash.com/photo-1516331138075-f3adc1e149cd', 'https://images.unsplash.com/photo-1419242902214-272b3f66ee7a', 'https://images.unsplash.com/photo-1538370965046-79c0d6907d47', 'https://images.unsplash.com/photo-1462331940025-496dfbfc7564', 'https://images.unsplash.com/photo-1530508777238-14544088c3ed', 'https://images.unsplash.com/photo-1444703686981-a3abbc4d4fe3', 'https://images.unsplash.com/photo-1506703719100-a0f3a48c0f86']\n"
     ]
    }
   ],
   "source": [
    "img_nodes=get_img_tags_for('galaxy')\n",
    "\n",
    "# img_urls=[i.attrs['src'] for i in img_nodes]\n",
    "\n",
    "# [print(get_high_res_img_url(i)) for i in img_nodes]\n",
    "\n",
    "all_img_urls=[get_high_res_img_url(i) for i in img_nodes]\n",
    "\n",
    "img_urls=[i for i in all_img_urls if i]\n",
    "\n",
    "print(img_urls)"
   ]
  },
  {
   "cell_type": "code",
   "execution_count": null,
   "metadata": {},
   "outputs": [],
   "source": []
  },
  {
   "cell_type": "code",
   "execution_count": null,
   "metadata": {},
   "outputs": [],
   "source": []
  },
  {
   "cell_type": "code",
   "execution_count": null,
   "metadata": {},
   "outputs": [],
   "source": []
  },
  {
   "cell_type": "code",
   "execution_count": null,
   "metadata": {},
   "outputs": [],
   "source": []
  },
  {
   "cell_type": "code",
   "execution_count": null,
   "metadata": {},
   "outputs": [],
   "source": []
  },
  {
   "cell_type": "code",
   "execution_count": null,
   "metadata": {},
   "outputs": [],
   "source": []
  },
  {
   "cell_type": "code",
   "execution_count": null,
   "metadata": {},
   "outputs": [],
   "source": []
  },
  {
   "cell_type": "code",
   "execution_count": null,
   "metadata": {},
   "outputs": [],
   "source": []
  },
  {
   "cell_type": "code",
   "execution_count": null,
   "metadata": {},
   "outputs": [],
   "source": []
  },
  {
   "cell_type": "code",
   "execution_count": null,
   "metadata": {},
   "outputs": [],
   "source": []
  },
  {
   "cell_type": "code",
   "execution_count": null,
   "metadata": {},
   "outputs": [],
   "source": []
  },
  {
   "cell_type": "code",
   "execution_count": null,
   "metadata": {},
   "outputs": [],
   "source": []
  }
 ],
 "metadata": {
  "kernelspec": {
   "display_name": "Python 3",
   "language": "python",
   "name": "python3"
  },
  "language_info": {
   "codemirror_mode": {
    "name": "ipython",
    "version": 3
   },
   "file_extension": ".py",
   "mimetype": "text/x-python",
   "name": "python",
   "nbconvert_exporter": "python",
   "pygments_lexer": "ipython3",
   "version": "3.10.2"
  },
  "orig_nbformat": 4
 },
 "nbformat": 4,
 "nbformat_minor": 2
}
