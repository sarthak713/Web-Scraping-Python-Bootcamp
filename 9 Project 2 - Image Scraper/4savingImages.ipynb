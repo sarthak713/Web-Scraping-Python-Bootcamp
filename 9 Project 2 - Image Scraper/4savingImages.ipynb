{
 "cells": [
  {
   "cell_type": "code",
   "execution_count": null,
   "metadata": {},
   "outputs": [],
   "source": [
    "from httpx import get\n",
    "from selectolax.parser import HTMLParser\n",
    "import os\n",
    "import logging\n",
    "\n",
    "logging.basicConfig(\n",
    "    level=logging.DEBUG,\n",
    "    format='%(asctime)s - %(levelname)s - %(message)s'\n",
    ")\n",
    "\n",
    "def get_img_tags_for(term=None):\n",
    "    if not term:\n",
    "        raise Exception('No search term provided')\n",
    "    url=f'https://unsplash.com/s/photos/{term}'\n",
    "    response=get(url)\n",
    "    if response.status_code!=200:\n",
    "        raise Exception('Error getting response')\n",
    "    tree=HTMLParser(response.text)\n",
    "    imgs=tree.css('figure a img')\n",
    "    return imgs\n",
    "\n",
    "def img_filter_out(url: str,keywords: list) -> bool: \n",
    "    return not any(x in url for x in keywords)\n",
    "\n",
    "def get_high_res_img_url(img_node):\n",
    "    srcset=img_node.attrs['srcset']     \n",
    "    srcset_list=srcset.split(', ')      \n",
    "    url_res=[src.split(' ') for src in srcset_list if img_filter_out(src,['plus','premium','profile'])]     # filter out\n",
    "    if not url_res:\n",
    "        return None\n",
    "    return url_res[0][0].split('?')[0]\n",
    "\n",
    "img_nodes=get_img_tags_for('galaxy')\n",
    "all_img_urls=[get_high_res_img_url(i) for i in img_nodes]\n",
    "img_urls=[i for i in all_img_urls if i]\n",
    "\n",
    "print(img_urls)"
   ]
  },
  {
   "cell_type": "code",
   "execution_count": 6,
   "metadata": {},
   "outputs": [],
   "source": [
    "def save_imgs(img_urls,dest_dir='images',tag=''):\n",
    "\n",
    "    for url in img_urls:\n",
    "        response=get(url)\n",
    "        file_name=url.split('/')[-1]\n",
    "        logging.info(f'Downloading {url}...')\n",
    "        if not os.path.exists(dest_dir):\n",
    "            os.makedirs(dest_dir)\n",
    "\n",
    "        with open(f'{dest_dir}/{tag}{file_name}.jpeg','wb') as f:\n",
    "            f.write(response.content)\n",
    "            logging.info(f'Saved {file_name}, with size {round(len(response.content)/1024/182,2)} MB')"
   ]
  },
  {
   "cell_type": "code",
   "execution_count": null,
   "metadata": {},
   "outputs": [],
   "source": [
    "save_imgs(img_urls,'images','galaxy')"
   ]
  },
  {
   "cell_type": "code",
   "execution_count": null,
   "metadata": {},
   "outputs": [],
   "source": []
  },
  {
   "cell_type": "code",
   "execution_count": null,
   "metadata": {},
   "outputs": [],
   "source": []
  },
  {
   "cell_type": "code",
   "execution_count": null,
   "metadata": {},
   "outputs": [],
   "source": []
  }
 ],
 "metadata": {
  "kernelspec": {
   "display_name": "Python 3",
   "language": "python",
   "name": "python3"
  },
  "language_info": {
   "codemirror_mode": {
    "name": "ipython",
    "version": 3
   },
   "file_extension": ".py",
   "mimetype": "text/x-python",
   "name": "python",
   "nbconvert_exporter": "python",
   "pygments_lexer": "ipython3",
   "version": "3.10.2"
  },
  "orig_nbformat": 4
 },
 "nbformat": 4,
 "nbformat_minor": 2
}
