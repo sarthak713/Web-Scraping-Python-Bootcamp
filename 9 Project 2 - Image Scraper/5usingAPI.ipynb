{
 "cells": [
  {
   "cell_type": "code",
   "execution_count": 9,
   "metadata": {},
   "outputs": [
    {
     "name": "stdout",
     "output_type": "stream",
     "text": [
      "['https://images.unsplash.com/photo-1547382442-d17c21625a44', 'https://images.unsplash.com/photo-1570481662006-a3a1374699e8']\n"
     ]
    }
   ],
   "source": [
    "from httpx import get\n",
    "import os\n",
    "\n",
    "def get_response_for(keyword,results_per_page,page=1):\n",
    "    url=f'https://unsplash.com/napi/search/photos?query={keyword}&per_page={results_per_page}&page={page}'\n",
    "    response=get(url)\n",
    "    if response.status_code==200:\n",
    "        return response.json()\n",
    "    \n",
    "def get_img_urls(data):\n",
    "    results=data['results']\n",
    "    img_urls=[x['urls']['raw'] for x in results if x['premium'] is False]\n",
    "    img_urls=[x.split('?')[0] for x in img_urls]\n",
    "    return img_urls\n",
    "\n",
    "def download_imgs(img_urls,max_download,dest_dir='images',tag=''):\n",
    "    success_download=0\n",
    "    for url in img_urls:\n",
    "        if success_download<max_download:\n",
    "            response=get(url)\n",
    "            file_name=url.split('/')[-1]\n",
    "            if not os.path.exists(dest_dir):\n",
    "                os.makedirs(dest_dir)\n",
    "            with open(f'{dest_dir}/{tag}{file_name}.jpeg','wb') as f:\n",
    "                f.write(response.content)\n",
    "                success_download+=1\n",
    "        else:\n",
    "            break\n",
    "    return success_download\n",
    "\n",
    "def scrape(keyword,num_of_results):\n",
    "    start_page=1\n",
    "    success_count=0\n",
    "    while success_count<num_of_results :\n",
    "        data=get_response_for(keyword,results_per_page=10,page=start_page)\n",
    "        max_downloads=num_of_results-success_count\n",
    "        if data:\n",
    "            img_urls=get_img_urls(data)\n",
    "            success_downloads=download_imgs(img_urls,max_downloads,tag=keyword)\n",
    "            success_count+=success_downloads\n",
    "            start_page+=1\n",
    "        else:\n",
    "            print('No Data Returned')\n",
    "            break\n",
    "\n",
    "data=get_response_for('dolphin',3)\n",
    "print(get_img_urls(data))"
   ]
  },
  {
   "cell_type": "code",
   "execution_count": 10,
   "metadata": {},
   "outputs": [],
   "source": [
    "scrape('running',3)"
   ]
  }
 ],
 "metadata": {
  "kernelspec": {
   "display_name": "Python 3",
   "language": "python",
   "name": "python3"
  },
  "language_info": {
   "codemirror_mode": {
    "name": "ipython",
    "version": 3
   },
   "file_extension": ".py",
   "mimetype": "text/x-python",
   "name": "python",
   "nbconvert_exporter": "python",
   "pygments_lexer": "ipython3",
   "version": "3.10.2"
  },
  "orig_nbformat": 4
 },
 "nbformat": 4,
 "nbformat_minor": 2
}
