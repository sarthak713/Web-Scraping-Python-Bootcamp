{
 "cells": [
  {
   "cell_type": "code",
   "execution_count": 1,
   "metadata": {},
   "outputs": [],
   "source": [
    "import requests\n",
    "from bs4 import BeautifulSoup\n",
    "response=requests.get('https://books.toscrape.com/')\n",
    "soup=BeautifulSoup(response.content,\"html.parser\")"
   ]
  },
  {
   "cell_type": "code",
   "execution_count": null,
   "metadata": {},
   "outputs": [],
   "source": [
    "# sometimes we want to search based on text content of given tag\n",
    "# sometimes we care only about text a tag contains\n",
    "# can do this using the same beautifulSoup find_all"
   ]
  },
  {
   "cell_type": "code",
   "execution_count": 2,
   "metadata": {},
   "outputs": [
    {
     "data": {
      "text/plain": [
       "[]"
      ]
     },
     "execution_count": 2,
     "metadata": {},
     "output_type": "execute_result"
    }
   ],
   "source": [
    "soup.find_all(text='Fiction')"
   ]
  },
  {
   "cell_type": "code",
   "execution_count": 3,
   "metadata": {},
   "outputs": [
    {
     "data": {
      "text/plain": [
       "re.compile(r'Fiction', re.IGNORECASE|re.UNICODE)"
      ]
     },
     "execution_count": 3,
     "metadata": {},
     "output_type": "execute_result"
    }
   ],
   "source": [
    "import re\n",
    "re.compile('Fiction',re.I)"
   ]
  },
  {
   "cell_type": "code",
   "execution_count": 4,
   "metadata": {},
   "outputs": [
    {
     "data": {
      "text/plain": [
       "['\\n                            \\n                                Historical Fiction\\n                            \\n                        ',\n",
       " '\\n                            \\n                                Womens Fiction\\n                            \\n                        ',\n",
       " '\\n                            \\n                                Fiction\\n                            \\n                        ',\n",
       " '\\n                            \\n                                Nonfiction\\n                            \\n                        ',\n",
       " '\\n                            \\n                                Science Fiction\\n                            \\n                        ',\n",
       " '\\n                            \\n                                Adult Fiction\\n                            \\n                        ',\n",
       " '\\n                            \\n                                Christian Fiction\\n                            \\n                        ']"
      ]
     },
     "execution_count": 4,
     "metadata": {},
     "output_type": "execute_result"
    }
   ],
   "source": [
    "# does partial match\n",
    "soup.find_all(text=re.compile('Fiction',re.I))"
   ]
  },
  {
   "cell_type": "code",
   "execution_count": 6,
   "metadata": {},
   "outputs": [],
   "source": [
    "text_matches=soup.find_all(text=re.compile('Fiction',re.I))"
   ]
  },
  {
   "cell_type": "code",
   "execution_count": 7,
   "metadata": {},
   "outputs": [
    {
     "data": {
      "text/plain": [
       "['Historical Fiction',\n",
       " 'Womens Fiction',\n",
       " 'Fiction',\n",
       " 'Nonfiction',\n",
       " 'Science Fiction',\n",
       " 'Adult Fiction',\n",
       " 'Christian Fiction']"
      ]
     },
     "execution_count": 7,
     "metadata": {},
     "output_type": "execute_result"
    }
   ],
   "source": [
    "[text.strip() for text in text_matches]"
   ]
  },
  {
   "cell_type": "code",
   "execution_count": 9,
   "metadata": {},
   "outputs": [
    {
     "data": {
      "text/plain": [
       "['Historical Fiction',\n",
       " 'Womens Fiction',\n",
       " 'Fiction',\n",
       " 'Nonfiction',\n",
       " 'Science Fiction',\n",
       " 'Adult Fiction',\n",
       " 'Christian Fiction']"
      ]
     },
     "execution_count": 9,
     "metadata": {},
     "output_type": "execute_result"
    }
   ],
   "source": [
    "all_text=list(soup.stripped_strings)\n",
    "[text for text in all_text if 'fiction' in text.lower()]"
   ]
  },
  {
   "cell_type": "code",
   "execution_count": 13,
   "metadata": {},
   "outputs": [
    {
     "data": {
      "text/plain": [
       "[<a href=\"catalogue/category/books/historical-fiction_4/index.html\">\n",
       "                             \n",
       "                                 Historical Fiction\n",
       "                             \n",
       "                         </a>,\n",
       " <a href=\"catalogue/category/books/womens-fiction_9/index.html\">\n",
       "                             \n",
       "                                 Womens Fiction\n",
       "                             \n",
       "                         </a>,\n",
       " <a href=\"catalogue/category/books/fiction_10/index.html\">\n",
       "                             \n",
       "                                 Fiction\n",
       "                             \n",
       "                         </a>,\n",
       " <a href=\"catalogue/category/books/nonfiction_13/index.html\">\n",
       "                             \n",
       "                                 Nonfiction\n",
       "                             \n",
       "                         </a>,\n",
       " <a href=\"catalogue/category/books/science-fiction_16/index.html\">\n",
       "                             \n",
       "                                 Science Fiction\n",
       "                             \n",
       "                         </a>,\n",
       " <a href=\"catalogue/category/books/adult-fiction_29/index.html\">\n",
       "                             \n",
       "                                 Adult Fiction\n",
       "                             \n",
       "                         </a>,\n",
       " <a href=\"catalogue/category/books/christian-fiction_34/index.html\">\n",
       "                             \n",
       "                                 Christian Fiction\n",
       "                             \n",
       "                         </a>]"
      ]
     },
     "execution_count": 13,
     "metadata": {},
     "output_type": "execute_result"
    }
   ],
   "source": [
    "# only anchors with this text based search\n",
    "text_matches=soup.find_all('a',text=re.compile('Fiction',re.I))\n",
    "text_matches"
   ]
  },
  {
   "cell_type": "code",
   "execution_count": 23,
   "metadata": {},
   "outputs": [],
   "source": [
    "all_text=list(soup.strings)"
   ]
  },
  {
   "cell_type": "code",
   "execution_count": 24,
   "metadata": {},
   "outputs": [
    {
     "data": {
      "text/plain": [
       "[<a href=\"catalogue/category/books/historical-fiction_4/index.html\">\n",
       "                             \n",
       "                                 Historical Fiction\n",
       "                             \n",
       "                         </a>,\n",
       " <a href=\"catalogue/category/books/womens-fiction_9/index.html\">\n",
       "                             \n",
       "                                 Womens Fiction\n",
       "                             \n",
       "                         </a>,\n",
       " <a href=\"catalogue/category/books/fiction_10/index.html\">\n",
       "                             \n",
       "                                 Fiction\n",
       "                             \n",
       "                         </a>,\n",
       " <a href=\"catalogue/category/books/nonfiction_13/index.html\">\n",
       "                             \n",
       "                                 Nonfiction\n",
       "                             \n",
       "                         </a>,\n",
       " <a href=\"catalogue/category/books/science-fiction_16/index.html\">\n",
       "                             \n",
       "                                 Science Fiction\n",
       "                             \n",
       "                         </a>,\n",
       " <a href=\"catalogue/category/books/adult-fiction_29/index.html\">\n",
       "                             \n",
       "                                 Adult Fiction\n",
       "                             \n",
       "                         </a>,\n",
       " <a href=\"catalogue/category/books/christian-fiction_34/index.html\">\n",
       "                             \n",
       "                                 Christian Fiction\n",
       "                             \n",
       "                         </a>]"
      ]
     },
     "execution_count": 24,
     "metadata": {},
     "output_type": "execute_result"
    }
   ],
   "source": [
    "[text.parent for text in all_text if 'fiction' in text.lower() and text.parent.name=='a']"
   ]
  }
 ],
 "metadata": {
  "kernelspec": {
   "display_name": "Python 3",
   "language": "python",
   "name": "python3"
  },
  "language_info": {
   "codemirror_mode": {
    "name": "ipython",
    "version": 3
   },
   "file_extension": ".py",
   "mimetype": "text/x-python",
   "name": "python",
   "nbconvert_exporter": "python",
   "pygments_lexer": "ipython3",
   "version": "3.10.2"
  },
  "orig_nbformat": 4
 },
 "nbformat": 4,
 "nbformat_minor": 2
}
