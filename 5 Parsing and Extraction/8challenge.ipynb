{
 "cells": [
  {
   "cell_type": "code",
   "execution_count": 1,
   "metadata": {},
   "outputs": [
    {
     "data": {
      "text/plain": [
       "\"\\n1. Extract the following elements from 1st page of books.toscrape.com:\\n    - full book title\\n    - price as float\\n    - rating as int\\n\\n2. Data should be stored as python list of dictionaries, where each book is dictionary:\\n    - example: {\\n        'title': 'Book Name Any',\\n        'price': 71.13,\\n        'rating': 1\\n    }\\n\\n\""
      ]
     },
     "execution_count": 1,
     "metadata": {},
     "output_type": "execute_result"
    }
   ],
   "source": [
    "'''\n",
    "1. Extract the following elements from 1st page of books.toscrape.com:\n",
    "    - full book title\n",
    "    - price as float\n",
    "    - rating as int\n",
    "\n",
    "2. Data should be stored as python list of dictionaries, where each book is dictionary:\n",
    "    - example: {\n",
    "        'title': 'Book Name Any',\n",
    "        'price': 71.13,\n",
    "        'rating': 1\n",
    "    }\n",
    "\n",
    "'''"
   ]
  },
  {
   "cell_type": "code",
   "execution_count": 3,
   "metadata": {},
   "outputs": [],
   "source": [
    "import requests\n",
    "from bs4 import BeautifulSoup\n",
    "\n",
    "response=requests.get('https://books.toscrape.com/')\n",
    "soup=BeautifulSoup(response.content)"
   ]
  },
  {
   "cell_type": "code",
   "execution_count": 4,
   "metadata": {},
   "outputs": [
    {
     "data": {
      "text/plain": [
       "200"
      ]
     },
     "execution_count": 4,
     "metadata": {},
     "output_type": "execute_result"
    }
   ],
   "source": [
    "response.status_code"
   ]
  },
  {
   "cell_type": "code",
   "execution_count": 5,
   "metadata": {},
   "outputs": [
    {
     "data": {
      "text/plain": [
       "541"
      ]
     },
     "execution_count": 5,
     "metadata": {},
     "output_type": "execute_result"
    }
   ],
   "source": [
    "len(soup.find_all())"
   ]
  },
  {
   "cell_type": "code",
   "execution_count": 11,
   "metadata": {},
   "outputs": [],
   "source": [
    "# get all book tags\n",
    "book_tags=soup.find_all('article',attrs={'class':'product_pod'})"
   ]
  },
  {
   "cell_type": "code",
   "execution_count": 12,
   "metadata": {},
   "outputs": [
    {
     "data": {
      "text/plain": [
       "20"
      ]
     },
     "execution_count": 12,
     "metadata": {},
     "output_type": "execute_result"
    }
   ],
   "source": [
    "len(book_tags)"
   ]
  },
  {
   "cell_type": "code",
   "execution_count": 30,
   "metadata": {},
   "outputs": [
    {
     "name": "stdout",
     "output_type": "stream",
     "text": [
      "<article class=\"product_pod\">\n",
      " <div class=\"image_container\">\n",
      "  <a href=\"catalogue/tipping-the-velvet_999/index.html\">\n",
      "   <img alt=\"Tipping the Velvet\" class=\"thumbnail\" src=\"media/cache/26/0c/260c6ae16bce31c8f8c95daddd9f4a1c.jpg\"/>\n",
      "  </a>\n",
      " </div>\n",
      " <p class=\"star-rating One\">\n",
      "  <i class=\"icon-star\">\n",
      "  </i>\n",
      "  <i class=\"icon-star\">\n",
      "  </i>\n",
      "  <i class=\"icon-star\">\n",
      "  </i>\n",
      "  <i class=\"icon-star\">\n",
      "  </i>\n",
      "  <i class=\"icon-star\">\n",
      "  </i>\n",
      " </p>\n",
      " <h3>\n",
      "  <a href=\"catalogue/tipping-the-velvet_999/index.html\" title=\"Tipping the Velvet\">\n",
      "   Tipping the Velvet\n",
      "  </a>\n",
      " </h3>\n",
      " <div class=\"product_price\">\n",
      "  <p class=\"price_color\">\n",
      "   £53.74\n",
      "  </p>\n",
      "  <p class=\"instock availability\">\n",
      "   <i class=\"icon-ok\">\n",
      "   </i>\n",
      "   In stock\n",
      "  </p>\n",
      "  <form>\n",
      "   <button class=\"btn btn-primary btn-block\" data-loading-text=\"Adding...\" type=\"submit\">\n",
      "    Add to basket\n",
      "   </button>\n",
      "  </form>\n",
      " </div>\n",
      "</article>\n",
      "\n"
     ]
    }
   ],
   "source": [
    "# checking structure of book tag\n",
    "print(book_tags[1].prettify())"
   ]
  },
  {
   "cell_type": "code",
   "execution_count": 47,
   "metadata": {},
   "outputs": [],
   "source": [
    "# function to extract data from book tag\n",
    "def extract_book_data(book_tag):\n",
    "    title=book_tag.find('h3').find('a')['title']\n",
    "    price=book_tag.find('p',attrs={'class':'price_color'}).get_text()\n",
    "    rating=book_tag.find('p',attrs={'class':'star-rating'})['class'][1]\n",
    "    return title,price,rating"
   ]
  },
  {
   "cell_type": "code",
   "execution_count": 52,
   "metadata": {},
   "outputs": [],
   "source": [
    "book = extract_book_data(book_tags[5])"
   ]
  },
  {
   "cell_type": "code",
   "execution_count": 57,
   "metadata": {},
   "outputs": [],
   "source": [
    "# function to refine the returned values\n",
    "def clean_price(price):\n",
    "    return float(''.join([char for char in price if char.isdigit() or char=='.']))"
   ]
  },
  {
   "cell_type": "code",
   "execution_count": 58,
   "metadata": {},
   "outputs": [
    {
     "data": {
      "text/plain": [
       "22.65"
      ]
     },
     "execution_count": 58,
     "metadata": {},
     "output_type": "execute_result"
    }
   ],
   "source": [
    "clean_price(book[1])"
   ]
  },
  {
   "cell_type": "code",
   "execution_count": 62,
   "metadata": {},
   "outputs": [],
   "source": [
    "# convert rating from string to number\n",
    "def map_rating(rating):\n",
    "    rating_map={\n",
    "        'One':1,\n",
    "        'Two':2,\n",
    "        'Three':3,\n",
    "        'Four':4,\n",
    "        'Five':5\n",
    "    }\n",
    "    return rating_map[rating]"
   ]
  },
  {
   "cell_type": "code",
   "execution_count": 63,
   "metadata": {},
   "outputs": [],
   "source": [
    "def extract_book_data(book_tag):\n",
    "    title=book_tag.find('h3').find('a')['title']\n",
    "    price=book_tag.find('p',attrs={'class':'price_color'}).get_text()\n",
    "    rating=book_tag.find('p',attrs={'class':'star-rating'})['class'][1]\n",
    "    return {\n",
    "        'title':title,\n",
    "        'price':clean_price(price),\n",
    "        'rating':map_rating(rating),\n",
    "    }"
   ]
  },
  {
   "cell_type": "code",
   "execution_count": 66,
   "metadata": {},
   "outputs": [
    {
     "data": {
      "text/plain": [
       "{'title': 'Starving Hearts (Triangular Trade Trilogy, #1)',\n",
       " 'price': 13.99,\n",
       " 'rating': 2}"
      ]
     },
     "execution_count": 66,
     "metadata": {},
     "output_type": "execute_result"
    }
   ],
   "source": [
    "extract_book_data(book_tags[10])"
   ]
  },
  {
   "cell_type": "code",
   "execution_count": 67,
   "metadata": {},
   "outputs": [],
   "source": [
    "book_tags=soup.find_all('article',attrs={'class':'product_pod'})\n",
    "\n",
    "book_data=[extract_book_data(book_tag) for book_tag in book_tags]"
   ]
  },
  {
   "cell_type": "code",
   "execution_count": 68,
   "metadata": {},
   "outputs": [
    {
     "data": {
      "text/plain": [
       "[{'title': 'A Light in the Attic', 'price': 51.77, 'rating': 3},\n",
       " {'title': 'Tipping the Velvet', 'price': 53.74, 'rating': 1},\n",
       " {'title': 'Soumission', 'price': 50.1, 'rating': 1},\n",
       " {'title': 'Sharp Objects', 'price': 47.82, 'rating': 4},\n",
       " {'title': 'Sapiens: A Brief History of Humankind',\n",
       "  'price': 54.23,\n",
       "  'rating': 5},\n",
       " {'title': 'The Requiem Red', 'price': 22.65, 'rating': 1},\n",
       " {'title': 'The Dirty Little Secrets of Getting Your Dream Job',\n",
       "  'price': 33.34,\n",
       "  'rating': 4},\n",
       " {'title': 'The Coming Woman: A Novel Based on the Life of the Infamous Feminist, Victoria Woodhull',\n",
       "  'price': 17.93,\n",
       "  'rating': 3},\n",
       " {'title': 'The Boys in the Boat: Nine Americans and Their Epic Quest for Gold at the 1936 Berlin Olympics',\n",
       "  'price': 22.6,\n",
       "  'rating': 4},\n",
       " {'title': 'The Black Maria', 'price': 52.15, 'rating': 1},\n",
       " {'title': 'Starving Hearts (Triangular Trade Trilogy, #1)',\n",
       "  'price': 13.99,\n",
       "  'rating': 2},\n",
       " {'title': \"Shakespeare's Sonnets\", 'price': 20.66, 'rating': 4},\n",
       " {'title': 'Set Me Free', 'price': 17.46, 'rating': 5},\n",
       " {'title': \"Scott Pilgrim's Precious Little Life (Scott Pilgrim #1)\",\n",
       "  'price': 52.29,\n",
       "  'rating': 5},\n",
       " {'title': 'Rip it Up and Start Again', 'price': 35.02, 'rating': 5},\n",
       " {'title': 'Our Band Could Be Your Life: Scenes from the American Indie Underground, 1981-1991',\n",
       "  'price': 57.25,\n",
       "  'rating': 3},\n",
       " {'title': 'Olio', 'price': 23.88, 'rating': 1},\n",
       " {'title': 'Mesaerion: The Best Science Fiction Stories 1800-1849',\n",
       "  'price': 37.59,\n",
       "  'rating': 1},\n",
       " {'title': 'Libertarianism for Beginners', 'price': 51.33, 'rating': 2},\n",
       " {'title': \"It's Only the Himalayas\", 'price': 45.17, 'rating': 2}]"
      ]
     },
     "execution_count": 68,
     "metadata": {},
     "output_type": "execute_result"
    }
   ],
   "source": [
    "book_data"
   ]
  }
 ],
 "metadata": {
  "kernelspec": {
   "display_name": "Python 3",
   "language": "python",
   "name": "python3"
  },
  "language_info": {
   "codemirror_mode": {
    "name": "ipython",
    "version": 3
   },
   "file_extension": ".py",
   "mimetype": "text/x-python",
   "name": "python",
   "nbconvert_exporter": "python",
   "pygments_lexer": "ipython3",
   "version": "3.10.2"
  },
  "orig_nbformat": 4
 },
 "nbformat": 4,
 "nbformat_minor": 2
}
