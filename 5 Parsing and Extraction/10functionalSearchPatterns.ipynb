{
 "cells": [
  {
   "cell_type": "code",
   "execution_count": null,
   "metadata": {},
   "outputs": [],
   "source": [
    "# Functional Search patterns"
   ]
  },
  {
   "cell_type": "code",
   "execution_count": 1,
   "metadata": {},
   "outputs": [],
   "source": [
    "import requests\n",
    "from bs4 import BeautifulSoup\n",
    "response=requests.get('https://books.toscrape.com/')\n",
    "soup=BeautifulSoup(response.content,\"html.parser\")"
   ]
  },
  {
   "cell_type": "code",
   "execution_count": 2,
   "metadata": {},
   "outputs": [
    {
     "data": {
      "text/plain": [
       "[<div id=\"messages\">\n",
       " </div>]"
      ]
     },
     "execution_count": 2,
     "metadata": {},
     "output_type": "execute_result"
    }
   ],
   "source": [
    "soup.find_all(id='messages')"
   ]
  },
  {
   "cell_type": "code",
   "execution_count": 3,
   "metadata": {},
   "outputs": [
    {
     "data": {
      "text/plain": [
       "[<div id=\"messages\">\n",
       " </div>]"
      ]
     },
     "execution_count": 3,
     "metadata": {},
     "output_type": "execute_result"
    }
   ],
   "source": [
    "soup.find_all(attrs={'id':'messages'})"
   ]
  },
  {
   "cell_type": "code",
   "execution_count": 5,
   "metadata": {},
   "outputs": [
    {
     "data": {
      "text/plain": [
       "4"
      ]
     },
     "execution_count": 5,
     "metadata": {},
     "output_type": "execute_result"
    }
   ],
   "source": [
    "# elements that contain id\n",
    "len(soup.find_all(attrs={'id':lambda x:x is not None}))"
   ]
  },
  {
   "cell_type": "code",
   "execution_count": 7,
   "metadata": {},
   "outputs": [
    {
     "data": {
      "text/plain": [
       "4"
      ]
     },
     "execution_count": 7,
     "metadata": {},
     "output_type": "execute_result"
    }
   ],
   "source": [
    "len(soup.find_all(id=lambda x:x is not None))"
   ]
  },
  {
   "cell_type": "code",
   "execution_count": 9,
   "metadata": {},
   "outputs": [
    {
     "data": {
      "text/plain": [
       "4"
      ]
     },
     "execution_count": 9,
     "metadata": {},
     "output_type": "execute_result"
    }
   ],
   "source": [
    "len(soup.find_all(lambda x:x.has_attr('id')))"
   ]
  },
  {
   "cell_type": "code",
   "execution_count": 10,
   "metadata": {},
   "outputs": [],
   "source": [
    "def fiction_category_anchor(tag):\n",
    "    return tag.name=='a' and 'category' in tag['href'] and 'Fiction' in tag.text"
   ]
  },
  {
   "cell_type": "code",
   "execution_count": 11,
   "metadata": {},
   "outputs": [
    {
     "data": {
      "text/plain": [
       "[<a href=\"catalogue/category/books/historical-fiction_4/index.html\">\n",
       "                             \n",
       "                                 Historical Fiction\n",
       "                             \n",
       "                         </a>,\n",
       " <a href=\"catalogue/category/books/womens-fiction_9/index.html\">\n",
       "                             \n",
       "                                 Womens Fiction\n",
       "                             \n",
       "                         </a>,\n",
       " <a href=\"catalogue/category/books/fiction_10/index.html\">\n",
       "                             \n",
       "                                 Fiction\n",
       "                             \n",
       "                         </a>,\n",
       " <a href=\"catalogue/category/books/science-fiction_16/index.html\">\n",
       "                             \n",
       "                                 Science Fiction\n",
       "                             \n",
       "                         </a>,\n",
       " <a href=\"catalogue/category/books/adult-fiction_29/index.html\">\n",
       "                             \n",
       "                                 Adult Fiction\n",
       "                             \n",
       "                         </a>,\n",
       " <a href=\"catalogue/category/books/christian-fiction_34/index.html\">\n",
       "                             \n",
       "                                 Christian Fiction\n",
       "                             \n",
       "                         </a>]"
      ]
     },
     "execution_count": 11,
     "metadata": {},
     "output_type": "execute_result"
    }
   ],
   "source": [
    "soup.find_all(fiction_category_anchor)"
   ]
  },
  {
   "cell_type": "code",
   "execution_count": null,
   "metadata": {},
   "outputs": [],
   "source": [
    "# So we have a helper function here that combines three filtering dimensions: tag name, href attribute, text content.\n",
    "# We pass that helper into find all, find all executes it on each and every element on the page"
   ]
  }
 ],
 "metadata": {
  "kernelspec": {
   "display_name": "Python 3",
   "language": "python",
   "name": "python3"
  },
  "language_info": {
   "codemirror_mode": {
    "name": "ipython",
    "version": 3
   },
   "file_extension": ".py",
   "mimetype": "text/x-python",
   "name": "python",
   "nbconvert_exporter": "python",
   "pygments_lexer": "ipython3",
   "version": "3.10.2"
  },
  "orig_nbformat": 4
 },
 "nbformat": 4,
 "nbformat_minor": 2
}
